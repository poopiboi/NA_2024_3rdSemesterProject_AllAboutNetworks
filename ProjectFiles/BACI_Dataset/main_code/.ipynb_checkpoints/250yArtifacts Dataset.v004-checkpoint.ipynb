{
 "cells": [
  {
   "cell_type": "code",
   "execution_count": 3,
   "id": "f3b597e9",
   "metadata": {},
   "outputs": [],
   "source": [
    "# TO DO: \n",
    "# Convert the network into a bipartite/pseudo-bipartite network, between importers on one side and exporters on the other\n",
    "# Already doing this we would have done a lot of network analysis and shown off a lot\n",
    "# Then also include a previous years' network and we can do a comparison between the two"
   ]
  },
  {
   "cell_type": "code",
   "execution_count": 4,
   "id": "788c827c",
   "metadata": {},
   "outputs": [],
   "source": [
    "from collections import defaultdict\n",
    "\n",
    "import numpy as np\n",
    "import pandas as pd\n",
    "import matplotlib.pyplot as plt\n",
    "import networkx as nx\n",
    "import os\n",
    "from networkx.algorithms import bipartite as bpt\n",
    "\n",
    "import glob"
   ]
  },
  {
   "cell_type": "code",
   "execution_count": 5,
   "id": "56a2a58e",
   "metadata": {},
   "outputs": [],
   "source": [
    "# Point to the 2022 BACI csv dataset\n",
    "file_path = \"/Users/zenrehda/Desktop/NAProject/BACI_HS22_Y2022_V202401b.csv\"\n",
    "file_path_countries = \"/Users/zenrehda/Desktop/NAProject/country_codes_V202401b.csv\""
   ]
  },
  {
   "cell_type": "code",
   "execution_count": 6,
   "id": "e09ec04f",
   "metadata": {},
   "outputs": [],
   "source": [
    "#Point to the 2022 BACI csv dataset for windows\n",
    "#file_path = \"BACI_HS22_Y2022_V202401b.csv\"\n",
    "#file_path_countries = \"country_codes_V202401b.csv\""
   ]
  },
  {
   "cell_type": "code",
   "execution_count": 7,
   "id": "8ceec1d9",
   "metadata": {},
   "outputs": [],
   "source": [
    "# Our product code for historical artifacts, saved as a list if we want to include multiple product codes\n",
    "product_codes = [970610]"
   ]
  },
  {
   "cell_type": "code",
   "execution_count": 8,
   "id": "8dd1f7ab",
   "metadata": {
    "scrolled": false
   },
   "outputs": [
    {
     "ename": "FileNotFoundError",
     "evalue": "[Errno 2] No such file or directory: 'BACI_HS22_Y2022_V202401b.csv'",
     "output_type": "error",
     "traceback": [
      "\u001b[0;31m---------------------------------------------------------------------------\u001b[0m",
      "\u001b[0;31mFileNotFoundError\u001b[0m                         Traceback (most recent call last)",
      "Cell \u001b[0;32mIn[8], line 3\u001b[0m\n\u001b[1;32m      1\u001b[0m \u001b[38;5;66;03m# Read the CSV in chunks, ensuring the Multi-Index structure is preserved\u001b[39;00m\n\u001b[1;32m      2\u001b[0m filtered_data \u001b[38;5;241m=\u001b[39m pd\u001b[38;5;241m.\u001b[39mconcat(\n\u001b[0;32m----> 3\u001b[0m     chunk[chunk\u001b[38;5;241m.\u001b[39mindex\u001b[38;5;241m.\u001b[39mget_level_values(\u001b[38;5;124m'\u001b[39m\u001b[38;5;124mk\u001b[39m\u001b[38;5;124m'\u001b[39m)\u001b[38;5;241m.\u001b[39misin(product_codes)] \u001b[38;5;28;01mfor\u001b[39;00m chunk \u001b[38;5;129;01min\u001b[39;00m pd\u001b[38;5;241m.\u001b[39mread_csv(\n\u001b[1;32m      4\u001b[0m         file_path, chunksize\u001b[38;5;241m=\u001b[39m\u001b[38;5;241m10000\u001b[39m, index_col\u001b[38;5;241m=\u001b[39m[\u001b[38;5;241m0\u001b[39m, \u001b[38;5;241m1\u001b[39m, \u001b[38;5;241m2\u001b[39m, \u001b[38;5;241m3\u001b[39m, \u001b[38;5;241m4\u001b[39m, \u001b[38;5;241m5\u001b[39m]  \u001b[38;5;66;03m# Adjust this list to match your Multi-Index levels\u001b[39;00m\n\u001b[1;32m      5\u001b[0m     )\n\u001b[1;32m      6\u001b[0m )\n",
      "File \u001b[0;32m~/anaconda3/lib/python3.11/site-packages/pandas/util/_decorators.py:211\u001b[0m, in \u001b[0;36mdeprecate_kwarg.<locals>._deprecate_kwarg.<locals>.wrapper\u001b[0;34m(*args, **kwargs)\u001b[0m\n\u001b[1;32m    209\u001b[0m     \u001b[38;5;28;01melse\u001b[39;00m:\n\u001b[1;32m    210\u001b[0m         kwargs[new_arg_name] \u001b[38;5;241m=\u001b[39m new_arg_value\n\u001b[0;32m--> 211\u001b[0m \u001b[38;5;28;01mreturn\u001b[39;00m func(\u001b[38;5;241m*\u001b[39margs, \u001b[38;5;241m*\u001b[39m\u001b[38;5;241m*\u001b[39mkwargs)\n",
      "File \u001b[0;32m~/anaconda3/lib/python3.11/site-packages/pandas/util/_decorators.py:331\u001b[0m, in \u001b[0;36mdeprecate_nonkeyword_arguments.<locals>.decorate.<locals>.wrapper\u001b[0;34m(*args, **kwargs)\u001b[0m\n\u001b[1;32m    325\u001b[0m \u001b[38;5;28;01mif\u001b[39;00m \u001b[38;5;28mlen\u001b[39m(args) \u001b[38;5;241m>\u001b[39m num_allow_args:\n\u001b[1;32m    326\u001b[0m     warnings\u001b[38;5;241m.\u001b[39mwarn(\n\u001b[1;32m    327\u001b[0m         msg\u001b[38;5;241m.\u001b[39mformat(arguments\u001b[38;5;241m=\u001b[39m_format_argument_list(allow_args)),\n\u001b[1;32m    328\u001b[0m         \u001b[38;5;167;01mFutureWarning\u001b[39;00m,\n\u001b[1;32m    329\u001b[0m         stacklevel\u001b[38;5;241m=\u001b[39mfind_stack_level(),\n\u001b[1;32m    330\u001b[0m     )\n\u001b[0;32m--> 331\u001b[0m \u001b[38;5;28;01mreturn\u001b[39;00m func(\u001b[38;5;241m*\u001b[39margs, \u001b[38;5;241m*\u001b[39m\u001b[38;5;241m*\u001b[39mkwargs)\n",
      "File \u001b[0;32m~/anaconda3/lib/python3.11/site-packages/pandas/io/parsers/readers.py:950\u001b[0m, in \u001b[0;36mread_csv\u001b[0;34m(filepath_or_buffer, sep, delimiter, header, names, index_col, usecols, squeeze, prefix, mangle_dupe_cols, dtype, engine, converters, true_values, false_values, skipinitialspace, skiprows, skipfooter, nrows, na_values, keep_default_na, na_filter, verbose, skip_blank_lines, parse_dates, infer_datetime_format, keep_date_col, date_parser, dayfirst, cache_dates, iterator, chunksize, compression, thousands, decimal, lineterminator, quotechar, quoting, doublequote, escapechar, comment, encoding, encoding_errors, dialect, error_bad_lines, warn_bad_lines, on_bad_lines, delim_whitespace, low_memory, memory_map, float_precision, storage_options)\u001b[0m\n\u001b[1;32m    935\u001b[0m kwds_defaults \u001b[38;5;241m=\u001b[39m _refine_defaults_read(\n\u001b[1;32m    936\u001b[0m     dialect,\n\u001b[1;32m    937\u001b[0m     delimiter,\n\u001b[0;32m   (...)\u001b[0m\n\u001b[1;32m    946\u001b[0m     defaults\u001b[38;5;241m=\u001b[39m{\u001b[38;5;124m\"\u001b[39m\u001b[38;5;124mdelimiter\u001b[39m\u001b[38;5;124m\"\u001b[39m: \u001b[38;5;124m\"\u001b[39m\u001b[38;5;124m,\u001b[39m\u001b[38;5;124m\"\u001b[39m},\n\u001b[1;32m    947\u001b[0m )\n\u001b[1;32m    948\u001b[0m kwds\u001b[38;5;241m.\u001b[39mupdate(kwds_defaults)\n\u001b[0;32m--> 950\u001b[0m \u001b[38;5;28;01mreturn\u001b[39;00m _read(filepath_or_buffer, kwds)\n",
      "File \u001b[0;32m~/anaconda3/lib/python3.11/site-packages/pandas/io/parsers/readers.py:605\u001b[0m, in \u001b[0;36m_read\u001b[0;34m(filepath_or_buffer, kwds)\u001b[0m\n\u001b[1;32m    602\u001b[0m _validate_names(kwds\u001b[38;5;241m.\u001b[39mget(\u001b[38;5;124m\"\u001b[39m\u001b[38;5;124mnames\u001b[39m\u001b[38;5;124m\"\u001b[39m, \u001b[38;5;28;01mNone\u001b[39;00m))\n\u001b[1;32m    604\u001b[0m \u001b[38;5;66;03m# Create the parser.\u001b[39;00m\n\u001b[0;32m--> 605\u001b[0m parser \u001b[38;5;241m=\u001b[39m TextFileReader(filepath_or_buffer, \u001b[38;5;241m*\u001b[39m\u001b[38;5;241m*\u001b[39mkwds)\n\u001b[1;32m    607\u001b[0m \u001b[38;5;28;01mif\u001b[39;00m chunksize \u001b[38;5;129;01mor\u001b[39;00m iterator:\n\u001b[1;32m    608\u001b[0m     \u001b[38;5;28;01mreturn\u001b[39;00m parser\n",
      "File \u001b[0;32m~/anaconda3/lib/python3.11/site-packages/pandas/io/parsers/readers.py:1442\u001b[0m, in \u001b[0;36mTextFileReader.__init__\u001b[0;34m(self, f, engine, **kwds)\u001b[0m\n\u001b[1;32m   1439\u001b[0m     \u001b[38;5;28mself\u001b[39m\u001b[38;5;241m.\u001b[39moptions[\u001b[38;5;124m\"\u001b[39m\u001b[38;5;124mhas_index_names\u001b[39m\u001b[38;5;124m\"\u001b[39m] \u001b[38;5;241m=\u001b[39m kwds[\u001b[38;5;124m\"\u001b[39m\u001b[38;5;124mhas_index_names\u001b[39m\u001b[38;5;124m\"\u001b[39m]\n\u001b[1;32m   1441\u001b[0m \u001b[38;5;28mself\u001b[39m\u001b[38;5;241m.\u001b[39mhandles: IOHandles \u001b[38;5;241m|\u001b[39m \u001b[38;5;28;01mNone\u001b[39;00m \u001b[38;5;241m=\u001b[39m \u001b[38;5;28;01mNone\u001b[39;00m\n\u001b[0;32m-> 1442\u001b[0m \u001b[38;5;28mself\u001b[39m\u001b[38;5;241m.\u001b[39m_engine \u001b[38;5;241m=\u001b[39m \u001b[38;5;28mself\u001b[39m\u001b[38;5;241m.\u001b[39m_make_engine(f, \u001b[38;5;28mself\u001b[39m\u001b[38;5;241m.\u001b[39mengine)\n",
      "File \u001b[0;32m~/anaconda3/lib/python3.11/site-packages/pandas/io/parsers/readers.py:1735\u001b[0m, in \u001b[0;36mTextFileReader._make_engine\u001b[0;34m(self, f, engine)\u001b[0m\n\u001b[1;32m   1733\u001b[0m     \u001b[38;5;28;01mif\u001b[39;00m \u001b[38;5;124m\"\u001b[39m\u001b[38;5;124mb\u001b[39m\u001b[38;5;124m\"\u001b[39m \u001b[38;5;129;01mnot\u001b[39;00m \u001b[38;5;129;01min\u001b[39;00m mode:\n\u001b[1;32m   1734\u001b[0m         mode \u001b[38;5;241m+\u001b[39m\u001b[38;5;241m=\u001b[39m \u001b[38;5;124m\"\u001b[39m\u001b[38;5;124mb\u001b[39m\u001b[38;5;124m\"\u001b[39m\n\u001b[0;32m-> 1735\u001b[0m \u001b[38;5;28mself\u001b[39m\u001b[38;5;241m.\u001b[39mhandles \u001b[38;5;241m=\u001b[39m get_handle(\n\u001b[1;32m   1736\u001b[0m     f,\n\u001b[1;32m   1737\u001b[0m     mode,\n\u001b[1;32m   1738\u001b[0m     encoding\u001b[38;5;241m=\u001b[39m\u001b[38;5;28mself\u001b[39m\u001b[38;5;241m.\u001b[39moptions\u001b[38;5;241m.\u001b[39mget(\u001b[38;5;124m\"\u001b[39m\u001b[38;5;124mencoding\u001b[39m\u001b[38;5;124m\"\u001b[39m, \u001b[38;5;28;01mNone\u001b[39;00m),\n\u001b[1;32m   1739\u001b[0m     compression\u001b[38;5;241m=\u001b[39m\u001b[38;5;28mself\u001b[39m\u001b[38;5;241m.\u001b[39moptions\u001b[38;5;241m.\u001b[39mget(\u001b[38;5;124m\"\u001b[39m\u001b[38;5;124mcompression\u001b[39m\u001b[38;5;124m\"\u001b[39m, \u001b[38;5;28;01mNone\u001b[39;00m),\n\u001b[1;32m   1740\u001b[0m     memory_map\u001b[38;5;241m=\u001b[39m\u001b[38;5;28mself\u001b[39m\u001b[38;5;241m.\u001b[39moptions\u001b[38;5;241m.\u001b[39mget(\u001b[38;5;124m\"\u001b[39m\u001b[38;5;124mmemory_map\u001b[39m\u001b[38;5;124m\"\u001b[39m, \u001b[38;5;28;01mFalse\u001b[39;00m),\n\u001b[1;32m   1741\u001b[0m     is_text\u001b[38;5;241m=\u001b[39mis_text,\n\u001b[1;32m   1742\u001b[0m     errors\u001b[38;5;241m=\u001b[39m\u001b[38;5;28mself\u001b[39m\u001b[38;5;241m.\u001b[39moptions\u001b[38;5;241m.\u001b[39mget(\u001b[38;5;124m\"\u001b[39m\u001b[38;5;124mencoding_errors\u001b[39m\u001b[38;5;124m\"\u001b[39m, \u001b[38;5;124m\"\u001b[39m\u001b[38;5;124mstrict\u001b[39m\u001b[38;5;124m\"\u001b[39m),\n\u001b[1;32m   1743\u001b[0m     storage_options\u001b[38;5;241m=\u001b[39m\u001b[38;5;28mself\u001b[39m\u001b[38;5;241m.\u001b[39moptions\u001b[38;5;241m.\u001b[39mget(\u001b[38;5;124m\"\u001b[39m\u001b[38;5;124mstorage_options\u001b[39m\u001b[38;5;124m\"\u001b[39m, \u001b[38;5;28;01mNone\u001b[39;00m),\n\u001b[1;32m   1744\u001b[0m )\n\u001b[1;32m   1745\u001b[0m \u001b[38;5;28;01massert\u001b[39;00m \u001b[38;5;28mself\u001b[39m\u001b[38;5;241m.\u001b[39mhandles \u001b[38;5;129;01mis\u001b[39;00m \u001b[38;5;129;01mnot\u001b[39;00m \u001b[38;5;28;01mNone\u001b[39;00m\n\u001b[1;32m   1746\u001b[0m f \u001b[38;5;241m=\u001b[39m \u001b[38;5;28mself\u001b[39m\u001b[38;5;241m.\u001b[39mhandles\u001b[38;5;241m.\u001b[39mhandle\n",
      "File \u001b[0;32m~/anaconda3/lib/python3.11/site-packages/pandas/io/common.py:856\u001b[0m, in \u001b[0;36mget_handle\u001b[0;34m(path_or_buf, mode, encoding, compression, memory_map, is_text, errors, storage_options)\u001b[0m\n\u001b[1;32m    851\u001b[0m \u001b[38;5;28;01melif\u001b[39;00m \u001b[38;5;28misinstance\u001b[39m(handle, \u001b[38;5;28mstr\u001b[39m):\n\u001b[1;32m    852\u001b[0m     \u001b[38;5;66;03m# Check whether the filename is to be opened in binary mode.\u001b[39;00m\n\u001b[1;32m    853\u001b[0m     \u001b[38;5;66;03m# Binary mode does not support 'encoding' and 'newline'.\u001b[39;00m\n\u001b[1;32m    854\u001b[0m     \u001b[38;5;28;01mif\u001b[39;00m ioargs\u001b[38;5;241m.\u001b[39mencoding \u001b[38;5;129;01mand\u001b[39;00m \u001b[38;5;124m\"\u001b[39m\u001b[38;5;124mb\u001b[39m\u001b[38;5;124m\"\u001b[39m \u001b[38;5;129;01mnot\u001b[39;00m \u001b[38;5;129;01min\u001b[39;00m ioargs\u001b[38;5;241m.\u001b[39mmode:\n\u001b[1;32m    855\u001b[0m         \u001b[38;5;66;03m# Encoding\u001b[39;00m\n\u001b[0;32m--> 856\u001b[0m         handle \u001b[38;5;241m=\u001b[39m \u001b[38;5;28mopen\u001b[39m(\n\u001b[1;32m    857\u001b[0m             handle,\n\u001b[1;32m    858\u001b[0m             ioargs\u001b[38;5;241m.\u001b[39mmode,\n\u001b[1;32m    859\u001b[0m             encoding\u001b[38;5;241m=\u001b[39mioargs\u001b[38;5;241m.\u001b[39mencoding,\n\u001b[1;32m    860\u001b[0m             errors\u001b[38;5;241m=\u001b[39merrors,\n\u001b[1;32m    861\u001b[0m             newline\u001b[38;5;241m=\u001b[39m\u001b[38;5;124m\"\u001b[39m\u001b[38;5;124m\"\u001b[39m,\n\u001b[1;32m    862\u001b[0m         )\n\u001b[1;32m    863\u001b[0m     \u001b[38;5;28;01melse\u001b[39;00m:\n\u001b[1;32m    864\u001b[0m         \u001b[38;5;66;03m# Binary mode\u001b[39;00m\n\u001b[1;32m    865\u001b[0m         handle \u001b[38;5;241m=\u001b[39m \u001b[38;5;28mopen\u001b[39m(handle, ioargs\u001b[38;5;241m.\u001b[39mmode)\n",
      "\u001b[0;31mFileNotFoundError\u001b[0m: [Errno 2] No such file or directory: 'BACI_HS22_Y2022_V202401b.csv'"
     ]
    }
   ],
   "source": [
    "# Read the CSV in chunks, ensuring the Multi-Index structure is preserved\n",
    "filtered_data = pd.concat(\n",
    "    chunk[chunk.index.get_level_values('k').isin(product_codes)] for chunk in pd.read_csv(\n",
    "        file_path, chunksize=10000, index_col=[0, 1, 2, 3, 4, 5]  # Adjust this list to match your Multi-Index levels\n",
    "    )\n",
    ")"
   ]
  },
  {
   "cell_type": "code",
   "execution_count": null,
   "id": "021b03ee",
   "metadata": {},
   "outputs": [],
   "source": [
    "# Read the CSV in chunks, ensuring the Multi-Index structure is preserved\n",
    "filtered_countries = pd.concat(\n",
    "    chunk for chunk in pd.read_csv(\n",
    "        file_path_countries, chunksize=10000, index_col=[0, 1, 2, 3]  # Adjust this list to match your Multi-Index levels\n",
    "    )\n",
    ")"
   ]
  },
  {
   "cell_type": "markdown",
   "id": "ffbb44c6",
   "metadata": {},
   "source": [
    "### The codes for each index:\n",
    "'t' = year\n",
    "\n",
    "'i' = exporter\n",
    "\n",
    "'j' = importer\n",
    "\n",
    "'k' = product\n",
    "\n",
    "'v' = value\n",
    "\n",
    "'q' = quantity"
   ]
  },
  {
   "cell_type": "code",
   "execution_count": null,
   "id": "195ab2b5",
   "metadata": {},
   "outputs": [],
   "source": [
    "# DO NOT RUN YET - Code is created to work on a MultiIndex, so we have 0 columns. If we want columns, reset index below\n",
    "\n",
    "# We reset the index to make sure the columns work as intended, as pandas currently treats this as a MultiIndex (complicado, no me gusta)\n",
    "#filtered_data = filtered_data.reset_index()\n",
    "\n",
    "# This will give us the clearly defined columns\n",
    "#print(filtered_data.columns)"
   ]
  },
  {
   "cell_type": "code",
   "execution_count": null,
   "id": "3c26d587",
   "metadata": {
    "scrolled": false
   },
   "outputs": [],
   "source": [
    "filtered_data"
   ]
  },
  {
   "cell_type": "code",
   "execution_count": null,
   "id": "3f897c3b",
   "metadata": {},
   "outputs": [],
   "source": [
    "filtered_countries"
   ]
  },
  {
   "cell_type": "code",
   "execution_count": 9,
   "id": "9fceb6e1",
   "metadata": {},
   "outputs": [
    {
     "ename": "NameError",
     "evalue": "name 'filtered_countries' is not defined",
     "output_type": "error",
     "traceback": [
      "\u001b[0;31m---------------------------------------------------------------------------\u001b[0m",
      "\u001b[0;31mNameError\u001b[0m                                 Traceback (most recent call last)",
      "Cell \u001b[0;32mIn[9], line 2\u001b[0m\n\u001b[1;32m      1\u001b[0m \u001b[38;5;66;03m# Reset index to convert MultiIndex into columns\u001b[39;00m\n\u001b[0;32m----> 2\u001b[0m filtered_countries \u001b[38;5;241m=\u001b[39m filtered_countries\u001b[38;5;241m.\u001b[39mreset_index()\n\u001b[1;32m      4\u001b[0m \u001b[38;5;66;03m# Check structure after reset\u001b[39;00m\n\u001b[1;32m      5\u001b[0m \u001b[38;5;28mprint\u001b[39m(filtered_countries\u001b[38;5;241m.\u001b[39mcolumns)\n",
      "\u001b[0;31mNameError\u001b[0m: name 'filtered_countries' is not defined"
     ]
    }
   ],
   "source": [
    "# Reset index to convert MultiIndex into columns\n",
    "filtered_countries = filtered_countries.reset_index()\n",
    "\n",
    "# Check structure after reset\n",
    "print(filtered_countries.columns)\n"
   ]
  },
  {
   "cell_type": "code",
   "execution_count": 10,
   "id": "995326d7",
   "metadata": {},
   "outputs": [
    {
     "ename": "NameError",
     "evalue": "name 'filtered_countries' is not defined",
     "output_type": "error",
     "traceback": [
      "\u001b[0;31m---------------------------------------------------------------------------\u001b[0m",
      "\u001b[0;31mNameError\u001b[0m                                 Traceback (most recent call last)",
      "Cell \u001b[0;32mIn[10], line 2\u001b[0m\n\u001b[1;32m      1\u001b[0m \u001b[38;5;66;03m# Create the mapping from 'country_code' to 'country_name'\u001b[39;00m\n\u001b[0;32m----> 2\u001b[0m code_to_name \u001b[38;5;241m=\u001b[39m filtered_countries\u001b[38;5;241m.\u001b[39mset_index(\u001b[38;5;124m'\u001b[39m\u001b[38;5;124mcountry_code\u001b[39m\u001b[38;5;124m'\u001b[39m)[\u001b[38;5;124m'\u001b[39m\u001b[38;5;124mcountry_name\u001b[39m\u001b[38;5;124m'\u001b[39m]\u001b[38;5;241m.\u001b[39mto_dict()\n\u001b[1;32m      4\u001b[0m \u001b[38;5;66;03m# Replace the levels in filtered_data\u001b[39;00m\n\u001b[1;32m      5\u001b[0m filtered_data\u001b[38;5;241m.\u001b[39mindex \u001b[38;5;241m=\u001b[39m filtered_data\u001b[38;5;241m.\u001b[39mindex\u001b[38;5;241m.\u001b[39mset_levels(\n\u001b[1;32m      6\u001b[0m     filtered_data\u001b[38;5;241m.\u001b[39mindex\u001b[38;5;241m.\u001b[39mlevels[\u001b[38;5;241m1\u001b[39m]\u001b[38;5;241m.\u001b[39mmap(code_to_name), level\u001b[38;5;241m=\u001b[39m\u001b[38;5;124m'\u001b[39m\u001b[38;5;124mi\u001b[39m\u001b[38;5;124m'\u001b[39m\n\u001b[1;32m      7\u001b[0m )\u001b[38;5;241m.\u001b[39mset_levels(\n\u001b[1;32m      8\u001b[0m     filtered_data\u001b[38;5;241m.\u001b[39mindex\u001b[38;5;241m.\u001b[39mlevels[\u001b[38;5;241m2\u001b[39m]\u001b[38;5;241m.\u001b[39mmap(code_to_name), level\u001b[38;5;241m=\u001b[39m\u001b[38;5;124m'\u001b[39m\u001b[38;5;124mj\u001b[39m\u001b[38;5;124m'\u001b[39m\n\u001b[1;32m      9\u001b[0m )\n",
      "\u001b[0;31mNameError\u001b[0m: name 'filtered_countries' is not defined"
     ]
    }
   ],
   "source": [
    "# Create the mapping from 'country_code' to 'country_name'\n",
    "code_to_name = filtered_countries.set_index('country_code')['country_name'].to_dict()\n",
    "\n",
    "# Replace the levels in filtered_data\n",
    "filtered_data.index = filtered_data.index.set_levels(\n",
    "    filtered_data.index.levels[1].map(code_to_name), level='i'\n",
    ").set_levels(\n",
    "    filtered_data.index.levels[2].map(code_to_name), level='j'\n",
    ")\n",
    "\n",
    "# Display the updated data\n",
    "print(filtered_data.head())\n"
   ]
  },
  {
   "cell_type": "code",
   "execution_count": 11,
   "id": "8a0224bd",
   "metadata": {},
   "outputs": [
    {
     "ename": "NameError",
     "evalue": "name 'filtered_data' is not defined",
     "output_type": "error",
     "traceback": [
      "\u001b[0;31m---------------------------------------------------------------------------\u001b[0m",
      "\u001b[0;31mNameError\u001b[0m                                 Traceback (most recent call last)",
      "Cell \u001b[0;32mIn[11], line 1\u001b[0m\n\u001b[0;32m----> 1\u001b[0m filtered_data\n",
      "\u001b[0;31mNameError\u001b[0m: name 'filtered_data' is not defined"
     ]
    }
   ],
   "source": [
    "filtered_data"
   ]
  },
  {
   "cell_type": "code",
   "execution_count": 12,
   "id": "65045bc0",
   "metadata": {},
   "outputs": [
    {
     "ename": "NameError",
     "evalue": "name 'filtered_data' is not defined",
     "output_type": "error",
     "traceback": [
      "\u001b[0;31m---------------------------------------------------------------------------\u001b[0m",
      "\u001b[0;31mNameError\u001b[0m                                 Traceback (most recent call last)",
      "Cell \u001b[0;32mIn[12], line 2\u001b[0m\n\u001b[1;32m      1\u001b[0m \u001b[38;5;66;03m# Create a dictionary to hold DataFrames for each unique `i`\u001b[39;00m\n\u001b[0;32m----> 2\u001b[0m datasets_by_exporter \u001b[38;5;241m=\u001b[39m {exporter: data \u001b[38;5;28;01mfor\u001b[39;00m exporter, data \u001b[38;5;129;01min\u001b[39;00m filtered_data\u001b[38;5;241m.\u001b[39mgroupby(level\u001b[38;5;241m=\u001b[39m\u001b[38;5;124m'\u001b[39m\u001b[38;5;124mi\u001b[39m\u001b[38;5;124m'\u001b[39m)}\n\u001b[1;32m      5\u001b[0m \u001b[38;5;66;03m# Optionally, you can save each DataFrame to a CSV file if needed\u001b[39;00m\n\u001b[1;32m      6\u001b[0m \u001b[38;5;28;01mfor\u001b[39;00m exporter, df \u001b[38;5;129;01min\u001b[39;00m datasets_by_exporter\u001b[38;5;241m.\u001b[39mitems():\n",
      "\u001b[0;31mNameError\u001b[0m: name 'filtered_data' is not defined"
     ]
    }
   ],
   "source": [
    "# Create a dictionary to hold DataFrames for each unique `i`\n",
    "datasets_by_exporter = {exporter: data for exporter, data in filtered_data.groupby(level='i')}\n",
    "\n",
    "\n",
    "# Optionally, you can save each DataFrame to a CSV file if needed\n",
    "for exporter, df in datasets_by_exporter.items():\n",
    "    output_file = f\"export_csv/dataset_for_exporter_{exporter}.csv\"  # Modify the filename as needed\n",
    "    df.to_csv(output_file)  # Save to CSV\n",
    "    print(f\"Saved dataset for exporter {exporter} to {output_file}\")\n",
    "    \n"
   ]
  },
  {
   "cell_type": "code",
   "execution_count": 13,
   "id": "388a58b1",
   "metadata": {},
   "outputs": [
    {
     "ename": "NameError",
     "evalue": "name 'datasets_by_exporter' is not defined",
     "output_type": "error",
     "traceback": [
      "\u001b[0;31m---------------------------------------------------------------------------\u001b[0m",
      "\u001b[0;31mNameError\u001b[0m                                 Traceback (most recent call last)",
      "Cell \u001b[0;32mIn[13], line 5\u001b[0m\n\u001b[1;32m      2\u001b[0m edges \u001b[38;5;241m=\u001b[39m defaultdict(\u001b[38;5;28mfloat\u001b[39m)\n\u001b[1;32m      4\u001b[0m \u001b[38;5;66;03m# Iterate through the datasets_by_exporter dictionary\u001b[39;00m\n\u001b[0;32m----> 5\u001b[0m \u001b[38;5;28;01mfor\u001b[39;00m exporter, df \u001b[38;5;129;01min\u001b[39;00m datasets_by_exporter\u001b[38;5;241m.\u001b[39mitems():\n\u001b[1;32m      6\u001b[0m     \u001b[38;5;66;03m# Iterate through each row in the DataFrame\u001b[39;00m\n\u001b[1;32m      7\u001b[0m     \u001b[38;5;28;01mfor\u001b[39;00m idx, row \u001b[38;5;129;01min\u001b[39;00m df\u001b[38;5;241m.\u001b[39miterrows():\n\u001b[1;32m      8\u001b[0m         \u001b[38;5;66;03m# Extract importer (j), exporter (i), and transaction value (v)\u001b[39;00m\n\u001b[1;32m      9\u001b[0m         exporter \u001b[38;5;241m=\u001b[39m idx[\u001b[38;5;241m1\u001b[39m]  \u001b[38;5;66;03m# 'i' level from MultiIndex\u001b[39;00m\n",
      "\u001b[0;31mNameError\u001b[0m: name 'datasets_by_exporter' is not defined"
     ]
    }
   ],
   "source": [
    "\n",
    "# Initialize a dictionary to store edges with weights\n",
    "edges = defaultdict(float)\n",
    "\n",
    "# Iterate through the datasets_by_exporter dictionary\n",
    "for exporter, df in datasets_by_exporter.items():\n",
    "    # Iterate through each row in the DataFrame\n",
    "    for idx, row in df.iterrows():\n",
    "        # Extract importer (j), exporter (i), and transaction value (v)\n",
    "        exporter = idx[1]  # 'i' level from MultiIndex\n",
    "        importer = idx[2]  # 'j' level from MultiIndex\n",
    "        value = idx[4]   # 'v' column value\n",
    "\n",
    "        # Add the value to the corresponding (importer, exporter) edge\n",
    "        edges[(exporter, importer)] += value\n",
    "\n",
    "# Convert defaultdict back to a normal dictionary (optional)\n",
    "edges = dict(edges)\n",
    "\n",
    "print(edges)\n"
   ]
  },
  {
   "cell_type": "code",
   "execution_count": 14,
   "id": "4aaa0538",
   "metadata": {},
   "outputs": [
    {
     "data": {
      "text/plain": [
       "dict_keys([])"
      ]
     },
     "execution_count": 14,
     "metadata": {},
     "output_type": "execute_result"
    }
   ],
   "source": [
    "edges.keys()"
   ]
  },
  {
   "cell_type": "code",
   "execution_count": 15,
   "id": "d1f1e752",
   "metadata": {},
   "outputs": [
    {
     "name": "stdout",
     "output_type": "stream",
     "text": [
      "0\n",
      "0\n"
     ]
    }
   ],
   "source": [
    "exporter_list = set()\n",
    "importer_list = set()\n",
    "for key, value in edges.items():\n",
    "    first_entry = key[0]  # Access the first element of the tuple\n",
    "    second_entry = key[1]\n",
    "    exporter_list.add(first_entry)\n",
    "    importer_list.add(second_entry)\n",
    "\n",
    "print(len(importer_list))\n",
    "print(len(exporter_list))\n",
    "\n",
    "\n"
   ]
  },
  {
   "cell_type": "code",
   "execution_count": 16,
   "id": "f466f53a",
   "metadata": {},
   "outputs": [
    {
     "ename": "ZeroDivisionError",
     "evalue": "division by zero",
     "output_type": "error",
     "traceback": [
      "\u001b[0;31m---------------------------------------------------------------------------\u001b[0m",
      "\u001b[0;31mZeroDivisionError\u001b[0m                         Traceback (most recent call last)",
      "Cell \u001b[0;32mIn[16], line 21\u001b[0m\n\u001b[1;32m     14\u001b[0m     info \u001b[38;5;241m=\u001b[39m (\n\u001b[1;32m     15\u001b[0m         \u001b[38;5;124mf\u001b[39m\u001b[38;5;124m\"\u001b[39m\u001b[38;5;124mGraph with \u001b[39m\u001b[38;5;132;01m{\u001b[39;00mG\u001b[38;5;241m.\u001b[39mnumber_of_nodes()\u001b[38;5;132;01m}\u001b[39;00m\u001b[38;5;124m nodes and \u001b[39m\u001b[38;5;132;01m{\u001b[39;00mG\u001b[38;5;241m.\u001b[39mnumber_of_edges()\u001b[38;5;132;01m}\u001b[39;00m\u001b[38;5;124m edges.\u001b[39m\u001b[38;5;130;01m\\n\u001b[39;00m\u001b[38;5;124m\"\u001b[39m\n\u001b[1;32m     16\u001b[0m         \u001b[38;5;124mf\u001b[39m\u001b[38;5;124m\"\u001b[39m\u001b[38;5;124mIs directed: \u001b[39m\u001b[38;5;132;01m{\u001b[39;00mG\u001b[38;5;241m.\u001b[39mis_directed()\u001b[38;5;132;01m}\u001b[39;00m\u001b[38;5;130;01m\\n\u001b[39;00m\u001b[38;5;124m\"\u001b[39m\n\u001b[1;32m     17\u001b[0m         \u001b[38;5;124mf\u001b[39m\u001b[38;5;124m\"\u001b[39m\u001b[38;5;124mAverage degree: \u001b[39m\u001b[38;5;132;01m{\u001b[39;00m\u001b[38;5;28msum\u001b[39m(\u001b[38;5;28mdict\u001b[39m(G\u001b[38;5;241m.\u001b[39mdegree())\u001b[38;5;241m.\u001b[39mvalues())\u001b[38;5;250m \u001b[39m\u001b[38;5;241m/\u001b[39m\u001b[38;5;250m \u001b[39mG\u001b[38;5;241m.\u001b[39mnumber_of_nodes()\u001b[38;5;132;01m:\u001b[39;00m\u001b[38;5;124m.2f\u001b[39m\u001b[38;5;132;01m}\u001b[39;00m\u001b[38;5;124m\"\u001b[39m\n\u001b[1;32m     18\u001b[0m     )\n\u001b[1;32m     19\u001b[0m     \u001b[38;5;28;01mreturn\u001b[39;00m info\n\u001b[0;32m---> 21\u001b[0m \u001b[38;5;28mprint\u001b[39m(graph_info(B))\n\u001b[1;32m     22\u001b[0m \u001b[38;5;28mprint\u001b[39m()\n\u001b[1;32m     23\u001b[0m \u001b[38;5;28mprint\u001b[39m(nx\u001b[38;5;241m.\u001b[39mis_bipartite(B))\n",
      "Cell \u001b[0;32mIn[16], line 17\u001b[0m, in \u001b[0;36mgraph_info\u001b[0;34m(G)\u001b[0m\n\u001b[1;32m     13\u001b[0m \u001b[38;5;28;01mdef\u001b[39;00m \u001b[38;5;21mgraph_info\u001b[39m(G):\n\u001b[1;32m     14\u001b[0m     info \u001b[38;5;241m=\u001b[39m (\n\u001b[1;32m     15\u001b[0m         \u001b[38;5;124mf\u001b[39m\u001b[38;5;124m\"\u001b[39m\u001b[38;5;124mGraph with \u001b[39m\u001b[38;5;132;01m{\u001b[39;00mG\u001b[38;5;241m.\u001b[39mnumber_of_nodes()\u001b[38;5;132;01m}\u001b[39;00m\u001b[38;5;124m nodes and \u001b[39m\u001b[38;5;132;01m{\u001b[39;00mG\u001b[38;5;241m.\u001b[39mnumber_of_edges()\u001b[38;5;132;01m}\u001b[39;00m\u001b[38;5;124m edges.\u001b[39m\u001b[38;5;130;01m\\n\u001b[39;00m\u001b[38;5;124m\"\u001b[39m\n\u001b[1;32m     16\u001b[0m         \u001b[38;5;124mf\u001b[39m\u001b[38;5;124m\"\u001b[39m\u001b[38;5;124mIs directed: \u001b[39m\u001b[38;5;132;01m{\u001b[39;00mG\u001b[38;5;241m.\u001b[39mis_directed()\u001b[38;5;132;01m}\u001b[39;00m\u001b[38;5;130;01m\\n\u001b[39;00m\u001b[38;5;124m\"\u001b[39m\n\u001b[0;32m---> 17\u001b[0m         \u001b[38;5;124mf\u001b[39m\u001b[38;5;124m\"\u001b[39m\u001b[38;5;124mAverage degree: \u001b[39m\u001b[38;5;132;01m{\u001b[39;00m\u001b[38;5;28msum\u001b[39m(\u001b[38;5;28mdict\u001b[39m(G\u001b[38;5;241m.\u001b[39mdegree())\u001b[38;5;241m.\u001b[39mvalues())\u001b[38;5;250m \u001b[39m\u001b[38;5;241m/\u001b[39m\u001b[38;5;250m \u001b[39mG\u001b[38;5;241m.\u001b[39mnumber_of_nodes()\u001b[38;5;132;01m:\u001b[39;00m\u001b[38;5;124m.2f\u001b[39m\u001b[38;5;132;01m}\u001b[39;00m\u001b[38;5;124m\"\u001b[39m\n\u001b[1;32m     18\u001b[0m     )\n\u001b[1;32m     19\u001b[0m     \u001b[38;5;28;01mreturn\u001b[39;00m info\n",
      "\u001b[0;31mZeroDivisionError\u001b[0m: division by zero"
     ]
    }
   ],
   "source": [
    "\n",
    "# Create an empty directed graph\n",
    "B = nx.DiGraph()\n",
    "\n",
    "# Distinguish exporters and importers by prefixing node names\n",
    "for (importer, exporter), weight in edges.items():\n",
    "    exporter_node = f\"e_{exporter}\"  # Prefix exporter nodes\n",
    "    importer_node = f\"i_{importer}\"  # Prefix importer nodes\n",
    "    \n",
    "    # Add the edge with the weight\n",
    "    B.add_edge(exporter_node, importer_node, weight=weight)\n",
    "\n",
    "\n",
    "def graph_info(G):\n",
    "    info = (\n",
    "        f\"Graph with {G.number_of_nodes()} nodes and {G.number_of_edges()} edges.\\n\"\n",
    "        f\"Is directed: {G.is_directed()}\\n\"\n",
    "        f\"Average degree: {sum(dict(G.degree()).values()) / G.number_of_nodes():.2f}\"\n",
    "    )\n",
    "    return info\n",
    "\n",
    "print(graph_info(B))\n",
    "print()\n",
    "print(nx.is_bipartite(B))\n"
   ]
  },
  {
   "cell_type": "code",
   "execution_count": 17,
   "id": "7cfbb8e8",
   "metadata": {},
   "outputs": [
    {
     "data": {
      "image/png": "[encoded data removed]",
      "text/plain": [
       "<Figure size 1200x800 with 1 Axes>"
      ]
     },
     "metadata": {},
     "output_type": "display_data"
    }
   ],
   "source": [
    "# Draw the graph (this may not work well for very large graphs)\n",
    "plt.figure(figsize=(12, 8))\n",
    "pos = nx.spring_layout(B)  # positions for all nodes\n",
    "nx.draw_networkx_nodes(B, pos, node_size=700)\n",
    "nx.draw_networkx_edges(B, pos, arrowstyle='-|>', arrowsize=20)\n",
    "nx.draw_networkx_labels(B, pos, font_size=10)\n",
    "edge_labels = nx.get_edge_attributes(B, 'weight')\n",
    "nx.draw_networkx_edge_labels(B, pos, edge_labels=edge_labels)\n",
    "\n",
    "plt.title(\"Imports/Exports Directed Graph\")\n",
    "plt.show()"
   ]
  },
  {
   "cell_type": "code",
   "execution_count": 18,
   "id": "03f1b7e1",
   "metadata": {},
   "outputs": [],
   "source": [
    "class weightedDiGraph:\n",
    "    '''\n",
    "    Class gathering several functions for working with our standard directed, weighted bigraph. \n",
    "    Does not work with bipartite networks.\n",
    "    \n",
    "    \n",
    "    Functions:\n",
    "        _counting_degree_diGraph = \n",
    "        _cumulative_degree_plot = \n",
    "        _closeness_centrality = \n",
    "        _average_neighbor_degree = \n",
    "        _betweenness_centrality = \n",
    "        _clustering_coefficient = \n",
    "        _maximum_shortest_path = \n",
    "    '''\n",
    "    \n",
    "    \n",
    "    \n",
    "    def __init__(self, graph = None):\n",
    "        self._graph = graph\n",
    "\n",
    "    def _counting_degrees_diGraph(self):\n",
    "        '''\n",
    "        A function that counts the total number of in and out degrees for each key value. Returns two lists of tuples.\n",
    "\n",
    "            Input:\n",
    "        graph = Your nx.diGraph\n",
    "\n",
    "            Output:\n",
    "        out_degree_list = A list of tuples, with the first value corresponding to the degree and the second value to nodes with\n",
    "        said degree in the network. e.g (0, 25) -> 25 nodes have an outdegree 0\n",
    "        in_degree_list = Same as above.\n",
    "        '''\n",
    "        out_degree = list(self._graph.out_degree)\n",
    "        out_degree.sort()\n",
    "        in_degree = list(self._graph.in_degree)\n",
    "        in_degree.sort()\n",
    "\n",
    "\n",
    "        out_degree_totals = []\n",
    "        out_degree_counts = {}\n",
    "        out_degree_list = []\n",
    "        for i in out_degree:\n",
    "            out_degree_totals.append(i[1])\n",
    "        for i in out_degree_totals:\n",
    "            out_degree_counts[i] = out_degree_totals.count(i)\n",
    "        for key in out_degree_counts:\n",
    "            out_degree_list.append((key, out_degree_counts[key]))\n",
    "\n",
    "\n",
    "        # ADDED CODE TO ADD 0 FREQUENCY COUNTS, UP TO HIGHEST VALUE\n",
    "        out_degree_list.sort()\n",
    "\n",
    "        min_out_degree = out_degree_list[0][0]  # Get the minimum degree value\n",
    "        max_out_degree = out_degree_list[-1][0]  # Get the maximum degree value\n",
    "\n",
    "        # Loop over the range from min to max, adding missing values with count 0\n",
    "        for degree in range(min_out_degree, max_out_degree + 1):\n",
    "            if degree not in out_degree_counts:\n",
    "                out_degree_list.append((degree, 0))\n",
    "\n",
    "\n",
    "\n",
    "        in_degree_totals = []\n",
    "        in_degree_counts = {}\n",
    "        in_degree_list = []\n",
    "        for i in in_degree:\n",
    "            in_degree_totals.append(i[1])\n",
    "        for i in in_degree_totals:\n",
    "            in_degree_counts[i] = in_degree_totals.count(i)\n",
    "        for key in in_degree_counts:\n",
    "            in_degree_list.append((key, in_degree_counts[key]))\n",
    "\n",
    "\n",
    "\n",
    "        # ADDED CODE TO ADD 0 FREQUENCY COUNTS, UP TO HIGHEST VALUE\n",
    "        out_degree_list.sort()\n",
    "\n",
    "        min_in_degree = in_degree_list[0][0]  # Get the minimum degree value\n",
    "        max_in_degree = in_degree_list[-1][0]  # Get the maximum degree value\n",
    "\n",
    "        # Loop over the range from min to max, adding missing values with count 0\n",
    "        for degree in range(min_in_degree, max_in_degree + 1):\n",
    "            if degree not in in_degree_counts:\n",
    "                in_degree_list.append((degree, 0))\n",
    "\n",
    "\n",
    "        out_degree_list.sort()\n",
    "        in_degree_list.sort()\n",
    "\n",
    "        return out_degree_list, in_degree_list\n",
    "\n",
    "\n",
    "    def _cumulative_degree_plot(self):\n",
    "        '''\n",
    "        To be expanded - A simple plot function for creating a cumulative degree plot\n",
    "\n",
    "            Input:\n",
    "        A degree list of tuples, as created by counting_degree_diGraph()\n",
    "\n",
    "            Output:\n",
    "        A plt.plot created from the two values in the tuples.\n",
    "        '''\n",
    "        out_degree_list, in_degree_list = self._counting_degrees_diGraph()\n",
    "        \n",
    "        out_degree_index_list = []\n",
    "        out_degree_value_list = []\n",
    "        out_degree_cumul_list = []\n",
    "\n",
    "        for i in out_degree_list:\n",
    "            out_degree_index_list.append(i[0])\n",
    "            out_degree_value_list.append(i[1])\n",
    "\n",
    "        for i in range(len(out_degree_index_list)):\n",
    "            out_degree_cumul_list.append(np.sum(out_degree_value_list[i:]))\n",
    "            \n",
    "            \n",
    "            \n",
    "            \n",
    "        in_degree_index_list = []\n",
    "        in_degree_value_list = []\n",
    "        in_degree_cumul_list = []\n",
    "\n",
    "        for i in in_degree_list:\n",
    "            in_degree_index_list.append(i[0])\n",
    "            in_degree_value_list.append(i[1])\n",
    "\n",
    "        for i in range(len(in_degree_index_list)):\n",
    "            in_degree_cumul_list.append(np.sum(in_degree_value_list[i:]))\n",
    "\n",
    "\n",
    "        #list1 = []\n",
    "        #list2 = []\n",
    "\n",
    "        #for i in range(len(degree_list)):\n",
    "        #    list1.append(degree_list[i][0])\n",
    "        #    list2.append(degree_list[i][1])\n",
    "\n",
    "        \n",
    "        # Create plots\n",
    "        fig, ax = plt.subplots()\n",
    "        out_plot, = ax.plot(out_degree_index_list, out_degree_cumul_list, label=\"Out-Degree\", color=\"blue\")\n",
    "        in_plot, = ax.plot(in_degree_index_list, in_degree_cumul_list, label=\"In-Degree\", color=\"orange\")\n",
    "\n",
    "        ax.set_xscale(\"log\")\n",
    "        ax.set_yscale(\"log\")\n",
    "        ax.set_xlabel(\"Degree\")\n",
    "        ax.set_ylabel(\"Cumulative Count\")\n",
    "        ax.set_title(\"Cumulative degree plot\")\n",
    "        ax.legend()\n",
    "\n",
    "        return out_plot, in_plot\n",
    "    \n",
    "\n",
    "    def _closeness_centrality(self):\n",
    "        '''\n",
    "        Small function for finding the node centrality of our network. Returns a sorted list of tuples and the highest value node.\n",
    "\n",
    "        Input:\n",
    "            graph = A networkx graph\n",
    "\n",
    "        Output:\n",
    "            node_centrality_tuples = A sorted list of tuples for each of the nodes, with their degree centrality.\n",
    "            maxtup = A tuple for the highest value node.\n",
    "        '''\n",
    "        node_centrality = nx.degree_centrality(self._graph)\n",
    "        node_centrality_tuples = sorted(node_centrality.items())\n",
    "        maxtup = (0,0)\n",
    "\n",
    "\n",
    "        for i in node_centrality_tuples:\n",
    "            if i[1] > maxtup[1]:\n",
    "                maxtup = i\n",
    "\n",
    "        return node_centrality_tuples, maxtup\n",
    "\n",
    "    def _average_neighbor_degree(self):\n",
    "        '''\n",
    "        Small function for finding the average degree of the neighbors to each node in the graph. Good for finding hubs.\n",
    "\n",
    "        Input:\n",
    "            graph = A networkx graph\n",
    "\n",
    "        Output:\n",
    "            avg_neighbor_degree_tuples = A sorted list of tuples for each of the nodes, with their average neighbor degree.\n",
    "            maxdic = A dictionary of the highest value nodes.\n",
    "\n",
    "            OPTIONAL maxtup = A tuple for the highest value node.\n",
    "        '''\n",
    "\n",
    "        average_neighbor_degree_dict = nx.average_neighbor_degree(self._graph)\n",
    "\n",
    "        avg_neighbor_degree_tuples = sorted(average_neighbor_degree_dict.items())\n",
    "        maxtup = (0,0)\n",
    "        maxdic = {}\n",
    "\n",
    "        for i in avg_neighbor_degree_tuples:\n",
    "            if i[1] > maxtup[1]:\n",
    "                maxtup = i\n",
    "\n",
    "        for i in avg_neighbor_degree_tuples:\n",
    "            if i[1] == maxtup[1]:\n",
    "                maxdic[i[0]] = i[1]\n",
    "\n",
    "        return avg_neighbor_degree_tuples, maxdic #, maxtup\n",
    "\n",
    "    def _betweenness_centrality(self):\n",
    "        '''\n",
    "        Small function for finding the betweenness centrality - \n",
    "        Betweenness centrality is a measure used in network analysis to quantify the importance of a node within a graph \n",
    "        based on the number of shortest paths that pass through it. \n",
    "        It reflects how much a node acts as a bridge or mediator in the network.\n",
    "\n",
    "        Input:\n",
    "            graph = A networkx graph\n",
    "\n",
    "        Output:\n",
    "            betw_cen_tuples = A sorted list of tuples for each of the nodes, with their betweenness centrality.\n",
    "            maxtup = A tuple for the highest value node.\n",
    "\n",
    "        '''\n",
    "\n",
    "        betw_cen = nx.betweenness_centrality(self._graph)\n",
    "\n",
    "        betw_cen_tuples = sorted(betw_cen.items())\n",
    "        maxtup = (0,0)\n",
    "\n",
    "        for i in betw_cen_tuples:\n",
    "            if i[1] > maxtup[1]:\n",
    "                maxtup = i\n",
    "\n",
    "        return betw_cen_tuples, maxtup\n",
    "\n",
    "\n",
    "    def _clustering_coefficient(self):\n",
    "        '''\n",
    "        Small function for finding the clustering coefficient\n",
    "\n",
    "        Input:\n",
    "            graph = A networkx graph\n",
    "\n",
    "        Output:\n",
    "            clust_co_tuples = A sorted list of tuples for each of the nodes, with their clustering coefficient\n",
    "            maxdic = A dictionary for the highest value nodes\n",
    "\n",
    "            OPTIONAL maxtup = A tuple for the maximum value. Logically not sound, as many nodes will share clustering coefficients.\n",
    "        '''\n",
    "\n",
    "        clust_co = nx.clustering(self._graph)\n",
    "\n",
    "        clust_co_tuples = sorted(clust_co.items())\n",
    "\n",
    "        maxtup = (0,0)\n",
    "        maxdic = {}\n",
    "\n",
    "        for i in clust_co_tuples:\n",
    "            if i[1] > maxtup[1]:\n",
    "                maxtup = i\n",
    "\n",
    "        for i in clust_co_tuples:\n",
    "            if i[1] == maxtup[1]:\n",
    "                maxdic[i[0]] = i[1]\n",
    "\n",
    "        return clust_co_tuples, maxdic #, maxtup\n",
    "\n",
    "    def _maximum_shortest_path(self):\n",
    "        '''\n",
    "        As we have a weakly connected graph, we can not directly find the diameter of our graph.\n",
    "        Instead we must find the longest path within any two connected nodes in the network.\n",
    "\n",
    "        Input:\n",
    "            graph = A networkx graph\n",
    "\n",
    "        Output:\n",
    "            diameter = An integer that shows the longest path between two connected nodes.\n",
    "\n",
    "        '''\n",
    "        diameter = max([max(j.values()) for (i,j) in nx.shortest_path_length(self._graph)]) # maximum distance of a list containing the shortest paths between any two nodes in the graph (computed with Dijkstra's algorithm)\n",
    "\n",
    "        # If you want to understand how the code works/runs, use the following:\n",
    "        #for (i, j) in nx.shortest_path_length(graph):\n",
    "        #    print(f'this is i: {i}')\n",
    "        #    print(f'this is j: {j.values()}')\n",
    "\n",
    "        # TO BE ADDED\n",
    "        # Save the i-country to understand which nodes have the longest path.\n",
    "\n",
    "        return diameter\n",
    "    \n",
    "    def summary(self):\n",
    "        # Node degree centrality\n",
    "        node_centrality_tuple_list, max_node_centrality = self._closeness_centrality()\n",
    "        avg_neighbor_deg_tuple, max_avg_neighbor_deg = self._average_neighbor_degree()\n",
    "        between_centr_tuple, max_between_centr = self._betweenness_centrality()\n",
    "        clust_coe_tup, maxdic_clust = self._clustering_coefficient()\n",
    "        longest_path = self._maximum_shortest_path()\n",
    "\n",
    "        print(f'Our maximum node centrality is: {max_node_centrality}')\n",
    "        print()\n",
    "        print(f'Our maximum average neighbor degree nodes are: {list(max_avg_neighbor_deg.keys())} and they have value {list(max_avg_neighbor_deg.values())[0]}')\n",
    "        print()\n",
    "        print(f'Our maximum betweenness centrality node is: {max_between_centr}')\n",
    "        print()\n",
    "        print(f'Our maximum clustering coefficient nodes are: {list(maxdic_clust.keys())} and they have value {list(maxdic_clust.values())[0]}')\n",
    "        print()\n",
    "        print(f'Our longest path in the network is: {longest_path}')\n",
    "    \n",
    "    \n",
    "    # def _graph_transitivity(self):\n",
    "    # nx.transitivity(self._graph)\n"
   ]
  },
  {
   "cell_type": "code",
   "execution_count": 19,
   "id": "2cac7d4c",
   "metadata": {
    "scrolled": false
   },
   "outputs": [
    {
     "ename": "IndexError",
     "evalue": "list index out of range",
     "output_type": "error",
     "traceback": [
      "\u001b[0;31m---------------------------------------------------------------------------\u001b[0m",
      "\u001b[0;31mIndexError\u001b[0m                                Traceback (most recent call last)",
      "Cell \u001b[0;32mIn[19], line 4\u001b[0m\n\u001b[1;32m      1\u001b[0m \u001b[38;5;66;03m# Calling our class and all functions:\u001b[39;00m\n\u001b[1;32m      2\u001b[0m G_graph_test \u001b[38;5;241m=\u001b[39m weightedDiGraph(B)\n\u001b[0;32m----> 4\u001b[0m G_graph_test\u001b[38;5;241m.\u001b[39m_cumulative_degree_plot()\n",
      "Cell \u001b[0;32mIn[18], line 104\u001b[0m, in \u001b[0;36mweightedDiGraph._cumulative_degree_plot\u001b[0;34m(self)\u001b[0m\n\u001b[1;32m     94\u001b[0m \u001b[38;5;28;01mdef\u001b[39;00m \u001b[38;5;21m_cumulative_degree_plot\u001b[39m(\u001b[38;5;28mself\u001b[39m):\n\u001b[1;32m     95\u001b[0m \u001b[38;5;250m    \u001b[39m\u001b[38;5;124;03m'''\u001b[39;00m\n\u001b[1;32m     96\u001b[0m \u001b[38;5;124;03m    To be expanded - A simple plot function for creating a cumulative degree plot\u001b[39;00m\n\u001b[1;32m     97\u001b[0m \n\u001b[0;32m   (...)\u001b[0m\n\u001b[1;32m    102\u001b[0m \u001b[38;5;124;03m    A plt.plot created from the two values in the tuples.\u001b[39;00m\n\u001b[1;32m    103\u001b[0m \u001b[38;5;124;03m    '''\u001b[39;00m\n\u001b[0;32m--> 104\u001b[0m     out_degree_list, in_degree_list \u001b[38;5;241m=\u001b[39m \u001b[38;5;28mself\u001b[39m\u001b[38;5;241m.\u001b[39m_counting_degrees_diGraph()\n\u001b[1;32m    106\u001b[0m     out_degree_index_list \u001b[38;5;241m=\u001b[39m []\n\u001b[1;32m    107\u001b[0m     out_degree_value_list \u001b[38;5;241m=\u001b[39m []\n",
      "Cell \u001b[0;32mIn[18], line 54\u001b[0m, in \u001b[0;36mweightedDiGraph._counting_degrees_diGraph\u001b[0;34m(self)\u001b[0m\n\u001b[1;32m     51\u001b[0m \u001b[38;5;66;03m# ADDED CODE TO ADD 0 FREQUENCY COUNTS, UP TO HIGHEST VALUE\u001b[39;00m\n\u001b[1;32m     52\u001b[0m out_degree_list\u001b[38;5;241m.\u001b[39msort()\n\u001b[0;32m---> 54\u001b[0m min_out_degree \u001b[38;5;241m=\u001b[39m out_degree_list[\u001b[38;5;241m0\u001b[39m][\u001b[38;5;241m0\u001b[39m]  \u001b[38;5;66;03m# Get the minimum degree value\u001b[39;00m\n\u001b[1;32m     55\u001b[0m max_out_degree \u001b[38;5;241m=\u001b[39m out_degree_list[\u001b[38;5;241m-\u001b[39m\u001b[38;5;241m1\u001b[39m][\u001b[38;5;241m0\u001b[39m]  \u001b[38;5;66;03m# Get the maximum degree value\u001b[39;00m\n\u001b[1;32m     57\u001b[0m \u001b[38;5;66;03m# Loop over the range from min to max, adding missing values with count 0\u001b[39;00m\n",
      "\u001b[0;31mIndexError\u001b[0m: list index out of range"
     ]
    }
   ],
   "source": [
    "# Calling our class and all functions:\n",
    "G_graph_test = weightedDiGraph(B)\n",
    "\n",
    "G_graph_test._cumulative_degree_plot()"
   ]
  },
  {
   "cell_type": "code",
   "execution_count": 20,
   "id": "847061ac",
   "metadata": {
    "scrolled": true
   },
   "outputs": [
    {
     "data": {
      "text/plain": [
       "NodeView(())"
      ]
     },
     "execution_count": 20,
     "metadata": {},
     "output_type": "execute_result"
    }
   ],
   "source": [
    "B.nodes()"
   ]
  },
  {
   "cell_type": "code",
   "execution_count": 21,
   "id": "fdcda09d",
   "metadata": {
    "scrolled": true
   },
   "outputs": [
    {
     "ename": "NetworkXPointlessConcept",
     "evalue": "Connectivity is undefined for the null graph.",
     "output_type": "error",
     "traceback": [
      "\u001b[0;31m---------------------------------------------------------------------------\u001b[0m",
      "\u001b[0;31mNetworkXPointlessConcept\u001b[0m                  Traceback (most recent call last)",
      "Cell \u001b[0;32mIn[21], line 1\u001b[0m\n\u001b[0;32m----> 1\u001b[0m bpt\u001b[38;5;241m.\u001b[39msets(B)[\u001b[38;5;241m0\u001b[39m]\n",
      "File \u001b[0;32m~/anaconda3/lib/python3.11/site-packages/networkx/algorithms/bipartite/basic.py:212\u001b[0m, in \u001b[0;36msets\u001b[0;34m(G, top_nodes)\u001b[0m\n\u001b[1;32m    210\u001b[0m     Y \u001b[38;5;241m=\u001b[39m \u001b[38;5;28mset\u001b[39m(G) \u001b[38;5;241m-\u001b[39m X\n\u001b[1;32m    211\u001b[0m \u001b[38;5;28;01melse\u001b[39;00m:\n\u001b[0;32m--> 212\u001b[0m     \u001b[38;5;28;01mif\u001b[39;00m \u001b[38;5;129;01mnot\u001b[39;00m is_connected(G):\n\u001b[1;32m    213\u001b[0m         msg \u001b[38;5;241m=\u001b[39m \u001b[38;5;124m\"\u001b[39m\u001b[38;5;124mDisconnected graph: Ambiguous solution for bipartite sets.\u001b[39m\u001b[38;5;124m\"\u001b[39m\n\u001b[1;32m    214\u001b[0m         \u001b[38;5;28;01mraise\u001b[39;00m nx\u001b[38;5;241m.\u001b[39mAmbiguousSolution(msg)\n",
      "File \u001b[0;32m~/anaconda3/lib/python3.11/site-packages/networkx/classes/backends.py:148\u001b[0m, in \u001b[0;36m_dispatch.<locals>.wrapper\u001b[0;34m(*args, **kwds)\u001b[0m\n\u001b[1;32m    144\u001b[0m         \u001b[38;5;28;01melse\u001b[39;00m:\n\u001b[1;32m    145\u001b[0m             \u001b[38;5;28;01mraise\u001b[39;00m NetworkXNotImplemented(\n\u001b[1;32m    146\u001b[0m                 \u001b[38;5;124mf\u001b[39m\u001b[38;5;124m\"\u001b[39m\u001b[38;5;124m'\u001b[39m\u001b[38;5;132;01m{\u001b[39;00mname\u001b[38;5;132;01m}\u001b[39;00m\u001b[38;5;124m'\u001b[39m\u001b[38;5;124m not implemented by \u001b[39m\u001b[38;5;132;01m{\u001b[39;00mplugin_name\u001b[38;5;132;01m}\u001b[39;00m\u001b[38;5;124m\"\u001b[39m\n\u001b[1;32m    147\u001b[0m             )\n\u001b[0;32m--> 148\u001b[0m \u001b[38;5;28;01mreturn\u001b[39;00m func(\u001b[38;5;241m*\u001b[39margs, \u001b[38;5;241m*\u001b[39m\u001b[38;5;241m*\u001b[39mkwds)\n",
      "File \u001b[0;32m~/anaconda3/lib/python3.11/site-packages/networkx/utils/decorators.py:766\u001b[0m, in \u001b[0;36margmap.__call__.<locals>.func\u001b[0;34m(_argmap__wrapper, *args, **kwargs)\u001b[0m\n\u001b[1;32m    765\u001b[0m \u001b[38;5;28;01mdef\u001b[39;00m \u001b[38;5;21mfunc\u001b[39m(\u001b[38;5;241m*\u001b[39margs, __wrapper\u001b[38;5;241m=\u001b[39m\u001b[38;5;28;01mNone\u001b[39;00m, \u001b[38;5;241m*\u001b[39m\u001b[38;5;241m*\u001b[39mkwargs):\n\u001b[0;32m--> 766\u001b[0m     \u001b[38;5;28;01mreturn\u001b[39;00m argmap\u001b[38;5;241m.\u001b[39m_lazy_compile(__wrapper)(\u001b[38;5;241m*\u001b[39margs, \u001b[38;5;241m*\u001b[39m\u001b[38;5;241m*\u001b[39mkwargs)\n",
      "File \u001b[0;32m<class 'networkx.utils.decorators.argmap'> compilation 8:4\u001b[0m, in \u001b[0;36margmap_is_weakly_connected_5\u001b[0;34m(G)\u001b[0m\n\u001b[1;32m      2\u001b[0m \u001b[38;5;28;01mimport\u001b[39;00m \u001b[38;5;21;01mcollections\u001b[39;00m\n\u001b[1;32m      3\u001b[0m \u001b[38;5;28;01mimport\u001b[39;00m \u001b[38;5;21;01mgzip\u001b[39;00m\n\u001b[0;32m----> 4\u001b[0m \u001b[38;5;28;01mimport\u001b[39;00m \u001b[38;5;21;01minspect\u001b[39;00m\n\u001b[1;32m      5\u001b[0m \u001b[38;5;28;01mimport\u001b[39;00m \u001b[38;5;21;01mitertools\u001b[39;00m\n\u001b[1;32m      6\u001b[0m \u001b[38;5;28;01mimport\u001b[39;00m \u001b[38;5;21;01mre\u001b[39;00m\n",
      "File \u001b[0;32m~/anaconda3/lib/python3.11/site-packages/networkx/algorithms/components/weakly_connected.py:158\u001b[0m, in \u001b[0;36mis_weakly_connected\u001b[0;34m(G)\u001b[0m\n\u001b[1;32m    110\u001b[0m \u001b[38;5;250m\u001b[39m\u001b[38;5;124;03m\"\"\"Test directed graph for weak connectivity.\u001b[39;00m\n\u001b[1;32m    111\u001b[0m \n\u001b[1;32m    112\u001b[0m \u001b[38;5;124;03mA directed graph is weakly connected if and only if the graph\u001b[39;00m\n\u001b[0;32m   (...)\u001b[0m\n\u001b[1;32m    155\u001b[0m \n\u001b[1;32m    156\u001b[0m \u001b[38;5;124;03m\"\"\"\u001b[39;00m\n\u001b[1;32m    157\u001b[0m \u001b[38;5;28;01mif\u001b[39;00m \u001b[38;5;28mlen\u001b[39m(G) \u001b[38;5;241m==\u001b[39m \u001b[38;5;241m0\u001b[39m:\n\u001b[0;32m--> 158\u001b[0m     \u001b[38;5;28;01mraise\u001b[39;00m nx\u001b[38;5;241m.\u001b[39mNetworkXPointlessConcept(\n\u001b[1;32m    159\u001b[0m \u001b[38;5;250m        \u001b[39m\u001b[38;5;124;03m\"\"\"Connectivity is undefined for the null graph.\"\"\"\u001b[39;00m\n\u001b[1;32m    160\u001b[0m     )\n\u001b[1;32m    162\u001b[0m \u001b[38;5;28;01mreturn\u001b[39;00m \u001b[38;5;28mlen\u001b[39m(\u001b[38;5;28mnext\u001b[39m(weakly_connected_components(G))) \u001b[38;5;241m==\u001b[39m \u001b[38;5;28mlen\u001b[39m(G)\n",
      "\u001b[0;31mNetworkXPointlessConcept\u001b[0m: Connectivity is undefined for the null graph."
     ]
    }
   ],
   "source": [
    "bpt.sets(B)[0]"
   ]
  },
  {
   "cell_type": "code",
   "execution_count": null,
   "id": "194f70f9",
   "metadata": {},
   "outputs": [],
   "source": [
    "bipartite_degrees_exporters = list(bpt.degrees(B, bpt.sets(B)[1]))"
   ]
  },
  {
   "cell_type": "code",
   "execution_count": 22,
   "id": "a3536aae",
   "metadata": {},
   "outputs": [
    {
     "ename": "NameError",
     "evalue": "name 'bipartite_degrees_exporters' is not defined",
     "output_type": "error",
     "traceback": [
      "\u001b[0;31m---------------------------------------------------------------------------\u001b[0m",
      "\u001b[0;31mNameError\u001b[0m                                 Traceback (most recent call last)",
      "Cell \u001b[0;32mIn[22], line 1\u001b[0m\n\u001b[0;32m----> 1\u001b[0m bipartite_degrees_exporters[\u001b[38;5;241m0\u001b[39m]\n",
      "\u001b[0;31mNameError\u001b[0m: name 'bipartite_degrees_exporters' is not defined"
     ]
    }
   ],
   "source": [
    "bipartite_degrees_exporters[0]"
   ]
  },
  {
   "cell_type": "code",
   "execution_count": 23,
   "id": "b28b6b3f",
   "metadata": {},
   "outputs": [
    {
     "ename": "NetworkXPointlessConcept",
     "evalue": "Connectivity is undefined for the null graph.",
     "output_type": "error",
     "traceback": [
      "\u001b[0;31m---------------------------------------------------------------------------\u001b[0m",
      "\u001b[0;31mNetworkXPointlessConcept\u001b[0m                  Traceback (most recent call last)",
      "Cell \u001b[0;32mIn[23], line 1\u001b[0m\n\u001b[0;32m----> 1\u001b[0m bipartite_exporters \u001b[38;5;241m=\u001b[39m bpt\u001b[38;5;241m.\u001b[39msets(B)[\u001b[38;5;241m0\u001b[39m]\n\u001b[1;32m      2\u001b[0m bipartite_importers \u001b[38;5;241m=\u001b[39m bpt\u001b[38;5;241m.\u001b[39msets(B)[\u001b[38;5;241m1\u001b[39m]\n",
      "File \u001b[0;32m~/anaconda3/lib/python3.11/site-packages/networkx/algorithms/bipartite/basic.py:212\u001b[0m, in \u001b[0;36msets\u001b[0;34m(G, top_nodes)\u001b[0m\n\u001b[1;32m    210\u001b[0m     Y \u001b[38;5;241m=\u001b[39m \u001b[38;5;28mset\u001b[39m(G) \u001b[38;5;241m-\u001b[39m X\n\u001b[1;32m    211\u001b[0m \u001b[38;5;28;01melse\u001b[39;00m:\n\u001b[0;32m--> 212\u001b[0m     \u001b[38;5;28;01mif\u001b[39;00m \u001b[38;5;129;01mnot\u001b[39;00m is_connected(G):\n\u001b[1;32m    213\u001b[0m         msg \u001b[38;5;241m=\u001b[39m \u001b[38;5;124m\"\u001b[39m\u001b[38;5;124mDisconnected graph: Ambiguous solution for bipartite sets.\u001b[39m\u001b[38;5;124m\"\u001b[39m\n\u001b[1;32m    214\u001b[0m         \u001b[38;5;28;01mraise\u001b[39;00m nx\u001b[38;5;241m.\u001b[39mAmbiguousSolution(msg)\n",
      "File \u001b[0;32m~/anaconda3/lib/python3.11/site-packages/networkx/classes/backends.py:148\u001b[0m, in \u001b[0;36m_dispatch.<locals>.wrapper\u001b[0;34m(*args, **kwds)\u001b[0m\n\u001b[1;32m    144\u001b[0m         \u001b[38;5;28;01melse\u001b[39;00m:\n\u001b[1;32m    145\u001b[0m             \u001b[38;5;28;01mraise\u001b[39;00m NetworkXNotImplemented(\n\u001b[1;32m    146\u001b[0m                 \u001b[38;5;124mf\u001b[39m\u001b[38;5;124m\"\u001b[39m\u001b[38;5;124m'\u001b[39m\u001b[38;5;132;01m{\u001b[39;00mname\u001b[38;5;132;01m}\u001b[39;00m\u001b[38;5;124m'\u001b[39m\u001b[38;5;124m not implemented by \u001b[39m\u001b[38;5;132;01m{\u001b[39;00mplugin_name\u001b[38;5;132;01m}\u001b[39;00m\u001b[38;5;124m\"\u001b[39m\n\u001b[1;32m    147\u001b[0m             )\n\u001b[0;32m--> 148\u001b[0m \u001b[38;5;28;01mreturn\u001b[39;00m func(\u001b[38;5;241m*\u001b[39margs, \u001b[38;5;241m*\u001b[39m\u001b[38;5;241m*\u001b[39mkwds)\n",
      "File \u001b[0;32m<class 'networkx.utils.decorators.argmap'> compilation 8:4\u001b[0m, in \u001b[0;36margmap_is_weakly_connected_5\u001b[0;34m(G)\u001b[0m\n\u001b[1;32m      2\u001b[0m \u001b[38;5;28;01mimport\u001b[39;00m \u001b[38;5;21;01mcollections\u001b[39;00m\n\u001b[1;32m      3\u001b[0m \u001b[38;5;28;01mimport\u001b[39;00m \u001b[38;5;21;01mgzip\u001b[39;00m\n\u001b[0;32m----> 4\u001b[0m \u001b[38;5;28;01mimport\u001b[39;00m \u001b[38;5;21;01minspect\u001b[39;00m\n\u001b[1;32m      5\u001b[0m \u001b[38;5;28;01mimport\u001b[39;00m \u001b[38;5;21;01mitertools\u001b[39;00m\n\u001b[1;32m      6\u001b[0m \u001b[38;5;28;01mimport\u001b[39;00m \u001b[38;5;21;01mre\u001b[39;00m\n",
      "File \u001b[0;32m~/anaconda3/lib/python3.11/site-packages/networkx/algorithms/components/weakly_connected.py:158\u001b[0m, in \u001b[0;36mis_weakly_connected\u001b[0;34m(G)\u001b[0m\n\u001b[1;32m    110\u001b[0m \u001b[38;5;250m\u001b[39m\u001b[38;5;124;03m\"\"\"Test directed graph for weak connectivity.\u001b[39;00m\n\u001b[1;32m    111\u001b[0m \n\u001b[1;32m    112\u001b[0m \u001b[38;5;124;03mA directed graph is weakly connected if and only if the graph\u001b[39;00m\n\u001b[0;32m   (...)\u001b[0m\n\u001b[1;32m    155\u001b[0m \n\u001b[1;32m    156\u001b[0m \u001b[38;5;124;03m\"\"\"\u001b[39;00m\n\u001b[1;32m    157\u001b[0m \u001b[38;5;28;01mif\u001b[39;00m \u001b[38;5;28mlen\u001b[39m(G) \u001b[38;5;241m==\u001b[39m \u001b[38;5;241m0\u001b[39m:\n\u001b[0;32m--> 158\u001b[0m     \u001b[38;5;28;01mraise\u001b[39;00m nx\u001b[38;5;241m.\u001b[39mNetworkXPointlessConcept(\n\u001b[1;32m    159\u001b[0m \u001b[38;5;250m        \u001b[39m\u001b[38;5;124;03m\"\"\"Connectivity is undefined for the null graph.\"\"\"\u001b[39;00m\n\u001b[1;32m    160\u001b[0m     )\n\u001b[1;32m    162\u001b[0m \u001b[38;5;28;01mreturn\u001b[39;00m \u001b[38;5;28mlen\u001b[39m(\u001b[38;5;28mnext\u001b[39m(weakly_connected_components(G))) \u001b[38;5;241m==\u001b[39m \u001b[38;5;28mlen\u001b[39m(G)\n",
      "\u001b[0;31mNetworkXPointlessConcept\u001b[0m: Connectivity is undefined for the null graph."
     ]
    }
   ],
   "source": [
    "bipartite_exporters = bpt.sets(B)[0]\n",
    "bipartite_importers = bpt.sets(B)[1]"
   ]
  },
  {
   "cell_type": "code",
   "execution_count": 24,
   "id": "fe8ad120",
   "metadata": {
    "scrolled": true
   },
   "outputs": [
    {
     "ename": "NetworkXPointlessConcept",
     "evalue": "Connectivity is undefined for the null graph.",
     "output_type": "error",
     "traceback": [
      "\u001b[0;31m---------------------------------------------------------------------------\u001b[0m",
      "\u001b[0;31mNetworkXPointlessConcept\u001b[0m                  Traceback (most recent call last)",
      "Cell \u001b[0;32mIn[24], line 1\u001b[0m\n\u001b[0;32m----> 1\u001b[0m bpt\u001b[38;5;241m.\u001b[39mcloseness_centrality(B, bpt\u001b[38;5;241m.\u001b[39msets(B)[\u001b[38;5;241m1\u001b[39m])\n",
      "File \u001b[0;32m~/anaconda3/lib/python3.11/site-packages/networkx/algorithms/bipartite/basic.py:212\u001b[0m, in \u001b[0;36msets\u001b[0;34m(G, top_nodes)\u001b[0m\n\u001b[1;32m    210\u001b[0m     Y \u001b[38;5;241m=\u001b[39m \u001b[38;5;28mset\u001b[39m(G) \u001b[38;5;241m-\u001b[39m X\n\u001b[1;32m    211\u001b[0m \u001b[38;5;28;01melse\u001b[39;00m:\n\u001b[0;32m--> 212\u001b[0m     \u001b[38;5;28;01mif\u001b[39;00m \u001b[38;5;129;01mnot\u001b[39;00m is_connected(G):\n\u001b[1;32m    213\u001b[0m         msg \u001b[38;5;241m=\u001b[39m \u001b[38;5;124m\"\u001b[39m\u001b[38;5;124mDisconnected graph: Ambiguous solution for bipartite sets.\u001b[39m\u001b[38;5;124m\"\u001b[39m\n\u001b[1;32m    214\u001b[0m         \u001b[38;5;28;01mraise\u001b[39;00m nx\u001b[38;5;241m.\u001b[39mAmbiguousSolution(msg)\n",
      "File \u001b[0;32m~/anaconda3/lib/python3.11/site-packages/networkx/classes/backends.py:148\u001b[0m, in \u001b[0;36m_dispatch.<locals>.wrapper\u001b[0;34m(*args, **kwds)\u001b[0m\n\u001b[1;32m    144\u001b[0m         \u001b[38;5;28;01melse\u001b[39;00m:\n\u001b[1;32m    145\u001b[0m             \u001b[38;5;28;01mraise\u001b[39;00m NetworkXNotImplemented(\n\u001b[1;32m    146\u001b[0m                 \u001b[38;5;124mf\u001b[39m\u001b[38;5;124m\"\u001b[39m\u001b[38;5;124m'\u001b[39m\u001b[38;5;132;01m{\u001b[39;00mname\u001b[38;5;132;01m}\u001b[39;00m\u001b[38;5;124m'\u001b[39m\u001b[38;5;124m not implemented by \u001b[39m\u001b[38;5;132;01m{\u001b[39;00mplugin_name\u001b[38;5;132;01m}\u001b[39;00m\u001b[38;5;124m\"\u001b[39m\n\u001b[1;32m    147\u001b[0m             )\n\u001b[0;32m--> 148\u001b[0m \u001b[38;5;28;01mreturn\u001b[39;00m func(\u001b[38;5;241m*\u001b[39margs, \u001b[38;5;241m*\u001b[39m\u001b[38;5;241m*\u001b[39mkwds)\n",
      "File \u001b[0;32m<class 'networkx.utils.decorators.argmap'> compilation 8:4\u001b[0m, in \u001b[0;36margmap_is_weakly_connected_5\u001b[0;34m(G)\u001b[0m\n\u001b[1;32m      2\u001b[0m \u001b[38;5;28;01mimport\u001b[39;00m \u001b[38;5;21;01mcollections\u001b[39;00m\n\u001b[1;32m      3\u001b[0m \u001b[38;5;28;01mimport\u001b[39;00m \u001b[38;5;21;01mgzip\u001b[39;00m\n\u001b[0;32m----> 4\u001b[0m \u001b[38;5;28;01mimport\u001b[39;00m \u001b[38;5;21;01minspect\u001b[39;00m\n\u001b[1;32m      5\u001b[0m \u001b[38;5;28;01mimport\u001b[39;00m \u001b[38;5;21;01mitertools\u001b[39;00m\n\u001b[1;32m      6\u001b[0m \u001b[38;5;28;01mimport\u001b[39;00m \u001b[38;5;21;01mre\u001b[39;00m\n",
      "File \u001b[0;32m~/anaconda3/lib/python3.11/site-packages/networkx/algorithms/components/weakly_connected.py:158\u001b[0m, in \u001b[0;36mis_weakly_connected\u001b[0;34m(G)\u001b[0m\n\u001b[1;32m    110\u001b[0m \u001b[38;5;250m\u001b[39m\u001b[38;5;124;03m\"\"\"Test directed graph for weak connectivity.\u001b[39;00m\n\u001b[1;32m    111\u001b[0m \n\u001b[1;32m    112\u001b[0m \u001b[38;5;124;03mA directed graph is weakly connected if and only if the graph\u001b[39;00m\n\u001b[0;32m   (...)\u001b[0m\n\u001b[1;32m    155\u001b[0m \n\u001b[1;32m    156\u001b[0m \u001b[38;5;124;03m\"\"\"\u001b[39;00m\n\u001b[1;32m    157\u001b[0m \u001b[38;5;28;01mif\u001b[39;00m \u001b[38;5;28mlen\u001b[39m(G) \u001b[38;5;241m==\u001b[39m \u001b[38;5;241m0\u001b[39m:\n\u001b[0;32m--> 158\u001b[0m     \u001b[38;5;28;01mraise\u001b[39;00m nx\u001b[38;5;241m.\u001b[39mNetworkXPointlessConcept(\n\u001b[1;32m    159\u001b[0m \u001b[38;5;250m        \u001b[39m\u001b[38;5;124;03m\"\"\"Connectivity is undefined for the null graph.\"\"\"\u001b[39;00m\n\u001b[1;32m    160\u001b[0m     )\n\u001b[1;32m    162\u001b[0m \u001b[38;5;28;01mreturn\u001b[39;00m \u001b[38;5;28mlen\u001b[39m(\u001b[38;5;28mnext\u001b[39m(weakly_connected_components(G))) \u001b[38;5;241m==\u001b[39m \u001b[38;5;28mlen\u001b[39m(G)\n",
      "\u001b[0;31mNetworkXPointlessConcept\u001b[0m: Connectivity is undefined for the null graph."
     ]
    }
   ],
   "source": [
    "bpt.closeness_centrality(B, bpt.sets(B)[1])"
   ]
  },
  {
   "cell_type": "code",
   "execution_count": 25,
   "id": "08dac854",
   "metadata": {},
   "outputs": [
    {
     "ename": "SyntaxError",
     "evalue": "expected '(' (2091587587.py, line 14)",
     "output_type": "error",
     "traceback": [
      "\u001b[0;36m  Cell \u001b[0;32mIn[25], line 14\u001b[0;36m\u001b[0m\n\u001b[0;31m    def average_bipartite_\u001b[0m\n\u001b[0m                          ^\u001b[0m\n\u001b[0;31mSyntaxError\u001b[0m\u001b[0;31m:\u001b[0m expected '('\n"
     ]
    }
   ],
   "source": [
    "class weightedBipartiteGraph:\n",
    "    '''\n",
    "    Class for a number of functions for use on the bipartite network.\n",
    "    '''\n",
    "    \n",
    "    def __init__(self, bipar_graph):\n",
    "        self.bipar_graph = bipar_graph\n",
    "    \n",
    "    def maximum_cardinality_matching():\n",
    "        '''\n",
    "        \n",
    "        '''\n",
    "        \n",
    "    def average_bipartite_\n",
    "    "
   ]
  },
  {
   "cell_type": "code",
   "execution_count": 26,
   "id": "1fd5a5ec",
   "metadata": {
    "scrolled": true
   },
   "outputs": [
    {
     "ename": "NameError",
     "evalue": "name 'bipartite_exporters' is not defined",
     "output_type": "error",
     "traceback": [
      "\u001b[0;31m---------------------------------------------------------------------------\u001b[0m",
      "\u001b[0;31mNameError\u001b[0m                                 Traceback (most recent call last)",
      "Cell \u001b[0;32mIn[26], line 2\u001b[0m\n\u001b[1;32m      1\u001b[0m \u001b[38;5;66;03m# Returns the maximum cardinality matching of the bipartite graph (hopcroft_karp)\u001b[39;00m\n\u001b[0;32m----> 2\u001b[0m bpt\u001b[38;5;241m.\u001b[39mhopcroft_karp_matching(B, bipartite_exporters)\n\u001b[1;32m      4\u001b[0m \u001b[38;5;66;03m# Returns the maximum cardinality matching of the bipartite graph (eppstein_matching)\u001b[39;00m\n\u001b[1;32m      5\u001b[0m bpt\u001b[38;5;241m.\u001b[39meppstein_matching(B, bipartite_exporters)\n",
      "\u001b[0;31mNameError\u001b[0m: name 'bipartite_exporters' is not defined"
     ]
    }
   ],
   "source": [
    "# Returns the maximum cardinality matching of the bipartite graph (hopcroft_karp)\n",
    "bpt.hopcroft_karp_matching(B, bipartite_exporters)\n",
    "\n",
    "# Returns the maximum cardinality matching of the bipartite graph (eppstein_matching)\n",
    "bpt.eppstein_matching(B, bipartite_exporters)\n",
    "\n",
    "# Compute a bipartite clustering coefficient for nodes.\n",
    "bpt.clustering(B, bipartite_exporters, mode='dot')\n",
    "\n",
    "# Compute the average bipartite clustering coefficient.\n",
    "bpt.average_clustering(B)\n",
    "\n",
    "# Compute a bipartite clustering coefficient for nodes.\n",
    "bpt.latapy_clustering(B)\n",
    "\n",
    "# Compute the bipartite clustering of G.\n",
    "# Robins and Alexander [1] defined bipartite clustering coefficient as four times the number of four cycles C_4 divided by the number of three paths L_3 in a bipartite graph:\n",
    "bpt.robins_alexander_clustering(B)\n",
    "\n",
    "# Computes the node redundancy coefficients for the nodes in the bipartite graph G.\n",
    "#bpt.node_redundancy(B)\n",
    "\n",
    "# Compute the closeness centrality for nodes in a bipartite network.\n",
    "bpt.closeness_centrality(B, bipartite_exporters)\n",
    "\n",
    "# Compute the degree centrality for nodes in a bipartite network.\n",
    "bpt.degree_centrality(B, bipartite_exporters)\n",
    "\n",
    "# Compute betweenness centrality for nodes in a bipartite network.\n",
    "# Betweenness centrality of a node v is the sum of the fraction of all-pairs shortest paths that pass through v.\n",
    "bpt.betweenness_centrality(B, bipartite_exporters)"
   ]
  },
  {
   "cell_type": "code",
   "execution_count": 27,
   "id": "ff6ce82c",
   "metadata": {},
   "outputs": [
    {
     "ename": "TypeError",
     "evalue": "biadjacency_matrix() missing 1 required positional argument: 'row_order'",
     "output_type": "error",
     "traceback": [
      "\u001b[0;31m---------------------------------------------------------------------------\u001b[0m",
      "\u001b[0;31mTypeError\u001b[0m                                 Traceback (most recent call last)",
      "Cell \u001b[0;32mIn[27], line 2\u001b[0m\n\u001b[1;32m      1\u001b[0m \u001b[38;5;66;03m# TO BE IMPLEMENTED\u001b[39;00m\n\u001b[0;32m----> 2\u001b[0m bpt\u001b[38;5;241m.\u001b[39mbiadjacency_matrix(B)\n",
      "\u001b[0;31mTypeError\u001b[0m: biadjacency_matrix() missing 1 required positional argument: 'row_order'"
     ]
    }
   ],
   "source": [
    "# TO BE IMPLEMENTED\n",
    "bpt.biadjacency_matrix(B)\n",
    "\n",
    "\n",
    "# No attempt is made to check that the input graph is bipartite.\n",
    "\n",
    "# For directed bipartite graphs only successors are considered as neighbors. \n",
    "# To obtain an adjacency matrix with ones (or weight values) for both predecessors and successors \n",
    "# you have to generate two biadjacency matrices where the rows of one of them are the columns of the other, \n",
    "# and then add one to the transpose of the other."
   ]
  },
  {
   "cell_type": "code",
   "execution_count": 28,
   "id": "96dc8a42",
   "metadata": {},
   "outputs": [
    {
     "data": {
      "text/plain": [
       "0"
      ]
     },
     "execution_count": 28,
     "metadata": {},
     "output_type": "execute_result"
    }
   ],
   "source": [
    "len(B.nodes())"
   ]
  },
  {
   "cell_type": "code",
   "execution_count": 29,
   "id": "8f9b792b",
   "metadata": {},
   "outputs": [
    {
     "ename": "ValueError",
     "evalue": "max() arg is an empty sequence",
     "output_type": "error",
     "traceback": [
      "\u001b[0;31m---------------------------------------------------------------------------\u001b[0m",
      "\u001b[0;31mValueError\u001b[0m                                Traceback (most recent call last)",
      "Cell \u001b[0;32mIn[29], line 5\u001b[0m\n\u001b[1;32m      2\u001b[0m component_test \u001b[38;5;241m=\u001b[39m nx\u001b[38;5;241m.\u001b[39mweakly_connected_components(B)\n\u001b[1;32m      4\u001b[0m \u001b[38;5;66;03m# Our largest connected network can be found like this - Right now it returns all 126 nodes?? How come\u001b[39;00m\n\u001b[0;32m----> 5\u001b[0m largest_cc \u001b[38;5;241m=\u001b[39m \u001b[38;5;28mmax\u001b[39m(nx\u001b[38;5;241m.\u001b[39mweakly_connected_components(B), key\u001b[38;5;241m=\u001b[39m\u001b[38;5;28mlen\u001b[39m)\n\u001b[1;32m      6\u001b[0m \u001b[38;5;28mlen\u001b[39m(largest_cc)\n",
      "\u001b[0;31mValueError\u001b[0m: max() arg is an empty sequence"
     ]
    }
   ],
   "source": [
    "# We can save the different connected subnetworks as generator sets of nodes.\n",
    "component_test = nx.weakly_connected_components(B)\n",
    "\n",
    "# Our largest connected network can be found like this - Right now it returns all 126 nodes?? How come\n",
    "largest_cc = max(nx.weakly_connected_components(B), key=len)\n",
    "len(largest_cc)"
   ]
  },
  {
   "cell_type": "code",
   "execution_count": 30,
   "id": "45265d86",
   "metadata": {},
   "outputs": [
    {
     "ename": "NameError",
     "evalue": "name 'bipartite_exporters' is not defined",
     "output_type": "error",
     "traceback": [
      "\u001b[0;31m---------------------------------------------------------------------------\u001b[0m",
      "\u001b[0;31mNameError\u001b[0m                                 Traceback (most recent call last)",
      "Cell \u001b[0;32mIn[30], line 1\u001b[0m\n\u001b[0;32m----> 1\u001b[0m bpt\u001b[38;5;241m.\u001b[39mdensity(B,bipartite_exporters)\n\u001b[1;32m      2\u001b[0m bpt\u001b[38;5;241m.\u001b[39mdensity(B, bipartite_importers)\n",
      "\u001b[0;31mNameError\u001b[0m: name 'bipartite_exporters' is not defined"
     ]
    }
   ],
   "source": [
    "bpt.density(B,bipartite_exporters)\n",
    "bpt.density(B, bipartite_importers)"
   ]
  },
  {
   "cell_type": "code",
   "execution_count": 31,
   "id": "3a42d806",
   "metadata": {},
   "outputs": [
    {
     "ename": "NetworkXPointlessConcept",
     "evalue": "Connectivity is undefined for the null graph.",
     "output_type": "error",
     "traceback": [
      "\u001b[0;31m---------------------------------------------------------------------------\u001b[0m",
      "\u001b[0;31mNetworkXPointlessConcept\u001b[0m                  Traceback (most recent call last)",
      "Cell \u001b[0;32mIn[31], line 3\u001b[0m\n\u001b[1;32m      1\u001b[0m \u001b[38;5;66;03m# How to visualise a bipartite set (Should use a smaller sample)\u001b[39;00m\n\u001b[0;32m----> 3\u001b[0m l, r \u001b[38;5;241m=\u001b[39m nx\u001b[38;5;241m.\u001b[39mbipartite\u001b[38;5;241m.\u001b[39msets(B)\n\u001b[1;32m      4\u001b[0m pos \u001b[38;5;241m=\u001b[39m {}\n\u001b[1;32m      6\u001b[0m \u001b[38;5;66;03m# Update position for node from each group\u001b[39;00m\n",
      "File \u001b[0;32m~/anaconda3/lib/python3.11/site-packages/networkx/algorithms/bipartite/basic.py:212\u001b[0m, in \u001b[0;36msets\u001b[0;34m(G, top_nodes)\u001b[0m\n\u001b[1;32m    210\u001b[0m     Y \u001b[38;5;241m=\u001b[39m \u001b[38;5;28mset\u001b[39m(G) \u001b[38;5;241m-\u001b[39m X\n\u001b[1;32m    211\u001b[0m \u001b[38;5;28;01melse\u001b[39;00m:\n\u001b[0;32m--> 212\u001b[0m     \u001b[38;5;28;01mif\u001b[39;00m \u001b[38;5;129;01mnot\u001b[39;00m is_connected(G):\n\u001b[1;32m    213\u001b[0m         msg \u001b[38;5;241m=\u001b[39m \u001b[38;5;124m\"\u001b[39m\u001b[38;5;124mDisconnected graph: Ambiguous solution for bipartite sets.\u001b[39m\u001b[38;5;124m\"\u001b[39m\n\u001b[1;32m    214\u001b[0m         \u001b[38;5;28;01mraise\u001b[39;00m nx\u001b[38;5;241m.\u001b[39mAmbiguousSolution(msg)\n",
      "File \u001b[0;32m~/anaconda3/lib/python3.11/site-packages/networkx/classes/backends.py:148\u001b[0m, in \u001b[0;36m_dispatch.<locals>.wrapper\u001b[0;34m(*args, **kwds)\u001b[0m\n\u001b[1;32m    144\u001b[0m         \u001b[38;5;28;01melse\u001b[39;00m:\n\u001b[1;32m    145\u001b[0m             \u001b[38;5;28;01mraise\u001b[39;00m NetworkXNotImplemented(\n\u001b[1;32m    146\u001b[0m                 \u001b[38;5;124mf\u001b[39m\u001b[38;5;124m\"\u001b[39m\u001b[38;5;124m'\u001b[39m\u001b[38;5;132;01m{\u001b[39;00mname\u001b[38;5;132;01m}\u001b[39;00m\u001b[38;5;124m'\u001b[39m\u001b[38;5;124m not implemented by \u001b[39m\u001b[38;5;132;01m{\u001b[39;00mplugin_name\u001b[38;5;132;01m}\u001b[39;00m\u001b[38;5;124m\"\u001b[39m\n\u001b[1;32m    147\u001b[0m             )\n\u001b[0;32m--> 148\u001b[0m \u001b[38;5;28;01mreturn\u001b[39;00m func(\u001b[38;5;241m*\u001b[39margs, \u001b[38;5;241m*\u001b[39m\u001b[38;5;241m*\u001b[39mkwds)\n",
      "File \u001b[0;32m<class 'networkx.utils.decorators.argmap'> compilation 8:4\u001b[0m, in \u001b[0;36margmap_is_weakly_connected_5\u001b[0;34m(G)\u001b[0m\n\u001b[1;32m      2\u001b[0m \u001b[38;5;28;01mimport\u001b[39;00m \u001b[38;5;21;01mcollections\u001b[39;00m\n\u001b[1;32m      3\u001b[0m \u001b[38;5;28;01mimport\u001b[39;00m \u001b[38;5;21;01mgzip\u001b[39;00m\n\u001b[0;32m----> 4\u001b[0m \u001b[38;5;28;01mimport\u001b[39;00m \u001b[38;5;21;01minspect\u001b[39;00m\n\u001b[1;32m      5\u001b[0m \u001b[38;5;28;01mimport\u001b[39;00m \u001b[38;5;21;01mitertools\u001b[39;00m\n\u001b[1;32m      6\u001b[0m \u001b[38;5;28;01mimport\u001b[39;00m \u001b[38;5;21;01mre\u001b[39;00m\n",
      "File \u001b[0;32m~/anaconda3/lib/python3.11/site-packages/networkx/algorithms/components/weakly_connected.py:158\u001b[0m, in \u001b[0;36mis_weakly_connected\u001b[0;34m(G)\u001b[0m\n\u001b[1;32m    110\u001b[0m \u001b[38;5;250m\u001b[39m\u001b[38;5;124;03m\"\"\"Test directed graph for weak connectivity.\u001b[39;00m\n\u001b[1;32m    111\u001b[0m \n\u001b[1;32m    112\u001b[0m \u001b[38;5;124;03mA directed graph is weakly connected if and only if the graph\u001b[39;00m\n\u001b[0;32m   (...)\u001b[0m\n\u001b[1;32m    155\u001b[0m \n\u001b[1;32m    156\u001b[0m \u001b[38;5;124;03m\"\"\"\u001b[39;00m\n\u001b[1;32m    157\u001b[0m \u001b[38;5;28;01mif\u001b[39;00m \u001b[38;5;28mlen\u001b[39m(G) \u001b[38;5;241m==\u001b[39m \u001b[38;5;241m0\u001b[39m:\n\u001b[0;32m--> 158\u001b[0m     \u001b[38;5;28;01mraise\u001b[39;00m nx\u001b[38;5;241m.\u001b[39mNetworkXPointlessConcept(\n\u001b[1;32m    159\u001b[0m \u001b[38;5;250m        \u001b[39m\u001b[38;5;124;03m\"\"\"Connectivity is undefined for the null graph.\"\"\"\u001b[39;00m\n\u001b[1;32m    160\u001b[0m     )\n\u001b[1;32m    162\u001b[0m \u001b[38;5;28;01mreturn\u001b[39;00m \u001b[38;5;28mlen\u001b[39m(\u001b[38;5;28mnext\u001b[39m(weakly_connected_components(G))) \u001b[38;5;241m==\u001b[39m \u001b[38;5;28mlen\u001b[39m(G)\n",
      "\u001b[0;31mNetworkXPointlessConcept\u001b[0m: Connectivity is undefined for the null graph."
     ]
    }
   ],
   "source": [
    "# How to visualise a bipartite set (Should use a smaller sample)\n",
    "\n",
    "l, r = nx.bipartite.sets(B)\n",
    "pos = {}\n",
    "\n",
    "# Update position for node from each group\n",
    "pos.update((node, (1, index)) for index, node in enumerate(l))\n",
    "pos.update((node, (2, index)) for index, node in enumerate(r))\n",
    "\n",
    "nx.draw(B, pos=pos, with_labels = True)\n",
    "plt.show()"
   ]
  },
  {
   "cell_type": "code",
   "execution_count": 32,
   "id": "f456066e",
   "metadata": {
    "scrolled": true
   },
   "outputs": [
    {
     "ename": "ValueError",
     "evalue": "max() arg is an empty sequence",
     "output_type": "error",
     "traceback": [
      "\u001b[0;31m---------------------------------------------------------------------------\u001b[0m",
      "\u001b[0;31mValueError\u001b[0m                                Traceback (most recent call last)",
      "Cell \u001b[0;32mIn[32], line 6\u001b[0m\n\u001b[1;32m      4\u001b[0m between_centr_tuple, max_between_centr \u001b[38;5;241m=\u001b[39m G_graph_test\u001b[38;5;241m.\u001b[39m_betweenness_centrality()\n\u001b[1;32m      5\u001b[0m clust_coe_tup, maxdic_clust \u001b[38;5;241m=\u001b[39m G_graph_test\u001b[38;5;241m.\u001b[39m_clustering_coefficient()\n\u001b[0;32m----> 6\u001b[0m longest_path \u001b[38;5;241m=\u001b[39m G_graph_test\u001b[38;5;241m.\u001b[39m_maximum_shortest_path()\n\u001b[1;32m      8\u001b[0m \u001b[38;5;28mprint\u001b[39m(\u001b[38;5;124mf\u001b[39m\u001b[38;5;124m'\u001b[39m\u001b[38;5;124mOur maximum node centrality is: \u001b[39m\u001b[38;5;132;01m{\u001b[39;00mmax_node_centrality\u001b[38;5;132;01m}\u001b[39;00m\u001b[38;5;124m'\u001b[39m)\n\u001b[1;32m      9\u001b[0m \u001b[38;5;28mprint\u001b[39m()\n",
      "Cell \u001b[0;32mIn[18], line 278\u001b[0m, in \u001b[0;36mweightedDiGraph._maximum_shortest_path\u001b[0;34m(self)\u001b[0m\n\u001b[1;32m    266\u001b[0m \u001b[38;5;28;01mdef\u001b[39;00m \u001b[38;5;21m_maximum_shortest_path\u001b[39m(\u001b[38;5;28mself\u001b[39m):\n\u001b[1;32m    267\u001b[0m \u001b[38;5;250m    \u001b[39m\u001b[38;5;124;03m'''\u001b[39;00m\n\u001b[1;32m    268\u001b[0m \u001b[38;5;124;03m    As we have a weakly connected graph, we can not directly find the diameter of our graph.\u001b[39;00m\n\u001b[1;32m    269\u001b[0m \u001b[38;5;124;03m    Instead we must find the longest path within any two connected nodes in the network.\u001b[39;00m\n\u001b[0;32m   (...)\u001b[0m\n\u001b[1;32m    276\u001b[0m \n\u001b[1;32m    277\u001b[0m \u001b[38;5;124;03m    '''\u001b[39;00m\n\u001b[0;32m--> 278\u001b[0m     diameter \u001b[38;5;241m=\u001b[39m \u001b[38;5;28mmax\u001b[39m([\u001b[38;5;28mmax\u001b[39m(j\u001b[38;5;241m.\u001b[39mvalues()) \u001b[38;5;28;01mfor\u001b[39;00m (i,j) \u001b[38;5;129;01min\u001b[39;00m nx\u001b[38;5;241m.\u001b[39mshortest_path_length(\u001b[38;5;28mself\u001b[39m\u001b[38;5;241m.\u001b[39m_graph)]) \u001b[38;5;66;03m# maximum distance of a list containing the shortest paths between any two nodes in the graph (computed with Dijkstra's algorithm)\u001b[39;00m\n\u001b[1;32m    280\u001b[0m     \u001b[38;5;66;03m# If you want to understand how the code works/runs, use the following:\u001b[39;00m\n\u001b[1;32m    281\u001b[0m     \u001b[38;5;66;03m#for (i, j) in nx.shortest_path_length(graph):\u001b[39;00m\n\u001b[1;32m    282\u001b[0m     \u001b[38;5;66;03m#    print(f'this is i: {i}')\u001b[39;00m\n\u001b[0;32m   (...)\u001b[0m\n\u001b[1;32m    285\u001b[0m     \u001b[38;5;66;03m# TO BE ADDED\u001b[39;00m\n\u001b[1;32m    286\u001b[0m     \u001b[38;5;66;03m# Save the i-country to understand which nodes have the longest path.\u001b[39;00m\n\u001b[1;32m    288\u001b[0m     \u001b[38;5;28;01mreturn\u001b[39;00m diameter\n",
      "\u001b[0;31mValueError\u001b[0m: max() arg is an empty sequence"
     ]
    }
   ],
   "source": [
    "# Node degree centrality\n",
    "node_centrality_tuple_list, max_node_centrality = G_graph_test._closeness_centrality()\n",
    "avg_neighbor_deg_tuple, max_avg_neighbor_deg = G_graph_test._average_neighbor_degree()\n",
    "between_centr_tuple, max_between_centr = G_graph_test._betweenness_centrality()\n",
    "clust_coe_tup, maxdic_clust = G_graph_test._clustering_coefficient()\n",
    "longest_path = G_graph_test._maximum_shortest_path()\n",
    "\n",
    "print(f'Our maximum node centrality is: {max_node_centrality}')\n",
    "print()\n",
    "print(f'Our maximum average neighbor degree nodes are: {list(max_avg_neighbor_deg.keys())} and they have value {list(max_avg_neighbor_deg.values())[0]}')\n",
    "print()\n",
    "print(f'Our maximum betweenness centrality node is: {max_between_centr}')\n",
    "print()\n",
    "print(f'Our maximum clustering coefficient nodes are: {list(maxdic_clust.keys())} and they have value {list(maxdic_clust.values())[0]}')\n",
    "print()\n",
    "print(f'Our longest path in the network is: {longest_path}')"
   ]
  },
  {
   "cell_type": "code",
   "execution_count": null,
   "id": "02394306",
   "metadata": {},
   "outputs": [],
   "source": []
  },
  {
   "cell_type": "code",
   "execution_count": null,
   "id": "aa68814c",
   "metadata": {},
   "outputs": [],
   "source": []
  },
  {
   "cell_type": "code",
   "execution_count": null,
   "id": "eec64e02",
   "metadata": {},
   "outputs": [],
   "source": []
  },
  {
   "cell_type": "code",
   "execution_count": null,
   "id": "da7b8497",
   "metadata": {},
   "outputs": [],
   "source": []
  },
  {
   "cell_type": "code",
   "execution_count": null,
   "id": "964edca7",
   "metadata": {},
   "outputs": [],
   "source": []
  },
  {
   "cell_type": "code",
   "execution_count": null,
   "id": "ba6c0f75",
   "metadata": {},
   "outputs": [],
   "source": []
  }
 ],
 "metadata": {
  "kernelspec": {
   "display_name": "Python 3 (ipykernel)",
   "language": "python",
   "name": "python3"
  },
  "language_info": {
   "codemirror_mode": {
    "name": "ipython",
    "version": 3
   },
   "file_extension": ".py",
   "mimetype": "text/x-python",
   "name": "python",
   "nbconvert_exporter": "python",
   "pygments_lexer": "ipython3",
   "version": "3.11.4"
  }
 },
 "nbformat": 4,
 "nbformat_minor": 5
}
